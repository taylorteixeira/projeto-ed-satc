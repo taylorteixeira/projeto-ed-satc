{
 "cells": [
  {
   "cell_type": "code",
   "execution_count": 0,
   "metadata": {
    "application/vnd.databricks.v1+cell": {
     "cellMetadata": {
      "byteLimit": 2048000,
      "rowLimit": 10000
     },
     "inputWidgets": {},
     "nuid": "c2bea950-5918-46f5-a6a1-b0bcb0dfd338",
     "showTitle": false,
     "tableResultSettingsMap": {},
     "title": ""
    }
   },
   "outputs": [],
   "source": [
    "#dbutils.fs.unmount('/mnt/datalake37e6a883b8e661af/landing-zone')\n",
    "#dbutils.fs.unmount('/mnt/datalakedc9c88dbeeae0858/bronze')\n",
    "#dbutils.fs.unmount('/mnt/datalakedc9c88dbeeae0858/silver')\n",
    "#dbutils.fs.unmount('/mnt/datalakedc9c88dbeeae0858/gold')"
   ]
  },
  {
   "cell_type": "code",
   "execution_count": 0,
   "metadata": {
    "application/vnd.databricks.v1+cell": {
     "cellMetadata": {
      "byteLimit": 2048000,
      "rowLimit": 10000
     },
     "inputWidgets": {},
     "nuid": "058a3cc4-370c-4abf-8c60-39a7f3f302d1",
     "showTitle": false,
     "tableResultSettingsMap": {},
     "title": ""
    }
   },
   "outputs": [],
   "source": [
    "storageAccountName = \"datalakeeb173f90c7e0bc50\"\n",
    "storageAccountAccessKey = \"\"\n",
    "sasToken = \"sv=2024-11-04&ss=bfqt&srt=sco&sp=rwdlacupyx&se=2025-06-06T06:54:58Z&st=2025-06-05T22:54:58Z&spr=https&sig=rCr16f24u6jMldql1xRMuplwWvT646ItW%2FJurgEsQQ4%3D\"\n",
    "\n",
    "def mount_adls(blobContainerName):\n",
    "    try:\n",
    "      dbutils.fs.mount(\n",
    "        source = \"wasbs://{}@{}.blob.core.windows.net\".format(blobContainerName, storageAccountName),\n",
    "        mount_point = f\"/mnt/{storageAccountName}/{blobContainerName}\",\n",
    "        #extra_configs = {'fs.azure.account.key.' + storageAccountName + '.blob.core.windows.net': storageAccountAccessKey}\n",
    "        extra_configs = {'fs.azure.sas.' + blobContainerName + '.' + storageAccountName + '.blob.core.windows.net': sasToken}\n",
    "      )\n",
    "      print(\"OK!\")\n",
    "    except Exception as e:\n",
    "      print(\"Falha\", e)"
   ]
  },
  {
   "cell_type": "code",
   "execution_count": 0,
   "metadata": {
    "application/vnd.databricks.v1+cell": {
     "cellMetadata": {
      "byteLimit": 2048000,
      "rowLimit": 10000
     },
     "inputWidgets": {},
     "nuid": "8d62fdfc-2dc8-4465-98fd-834ac8ae9404",
     "showTitle": false,
     "tableResultSettingsMap": {},
     "title": ""
    }
   },
   "outputs": [],
   "source": [
    "mount_adls('landing-zone')\n",
    "mount_adls('bronze')"
   ]
  },
  {
   "cell_type": "code",
   "execution_count": 0,
   "metadata": {
    "application/vnd.databricks.v1+cell": {
     "cellMetadata": {
      "byteLimit": 2048000,
      "rowLimit": 10000
     },
     "inputWidgets": {},
     "nuid": "37774595-e2cd-4ba0-92aa-4a6f239c0e7b",
     "showTitle": false,
     "tableResultSettingsMap": {},
     "title": ""
    }
   },
   "outputs": [],
   "source": [
    "df_assistencias   = spark.read.option(\"infeschema\", \"true\").option(\"header\", \"true\").csv(f\"/mnt/{storageAccountName}/landing-zone/dados/{primeira_pasta}/assistencias.csv\")\n",
    "df_atores   = spark.read.option(\"infeschema\", \"true\").option(\"header\", \"true\").csv(f\"/mnt/{storageAccountName}/landing-zone/dados/{primeira_pasta}/atores.csv\")\n",
    "df_avaliacoes = spark.read.option(\"infeschema\", \"true\").option(\"header\", \"true\").csv(f\"/mnt/{storageAccountName}/landing-zone/dados/{primeira_pasta}/avaliacoes.csv\")\n",
    "df_episodios = spark.read.option(\"infeschema\", \"true\").option(\"header\", \"true\").csv(f\"/mnt/{storageAccountName}/landing-zone/dados/{primeira_pasta}/episodios.csv\")\n",
    "df_filmes    = spark.read.option(\"infeschema\", \"true\").option(\"header\", \"true\").csv(f\"/mnt/{storageAccountName}/landing-zone/dados/{primeira_pasta}/filmes.csv\")\n",
    "df_generos     = spark.read.option(\"infeschema\", \"true\").option(\"header\", \"true\").csv(f\"/mnt/{storageAccountName}/landing-zone/dados/{primeira_pasta}/generos.csv\")\n",
    "df_pagamentos    = spark.read.option(\"infeschema\", \"true\").option(\"header\", \"true\").csv(f\"/mnt/{storageAccountName}/landing-zone/dados/{primeira_pasta}/pagamentos.csv\")\n",
    "df_planos    = spark.read.option(\"infeschema\", \"true\").option(\"header\", \"true\").csv(f\"/mnt/{storageAccountName}/landing-zone/dados/{primeira_pasta}/planos.csv\")\n",
    "df_series = spark.read.option(\"infeschema\", \"true\").option(\"header\", \"true\").csv(f\"/mnt/{storageAccountName}/landing-zone/dados/{primeira_pasta}/series.csv\")\n",
    "df_usuarios = spark.read.option(\"infeschema\", \"true\").option(\"header\", \"true\").csv(f\"/mnt/{storageAccountName}/landing-zone/dados/{primeira_pasta}/usuarios.csv\")\n"
   ]
  },
  {
   "cell_type": "code",
   "execution_count": 0,
   "metadata": {
    "application/vnd.databricks.v1+cell": {
     "cellMetadata": {
      "byteLimit": 2048000,
      "rowLimit": 10000
     },
     "inputWidgets": {},
     "nuid": "f278962e-c91a-4900-ba19-27d9b9e08947",
     "showTitle": false,
     "tableResultSettingsMap": {},
     "title": ""
    }
   },
   "outputs": [],
   "source": [
    "from pyspark.sql.functions import current_timestamp, lit\n",
    "\n",
    "df_assistencias   = df_assistencias.withColumn(\"data_hora_bronze\", current_timestamp()).withColumn(\"nome_arquivo\", lit(\"assistencias.csv\"))\n",
    "df_atores   = df_atores.withColumn(\"data_hora_bronze\", current_timestamp()).withColumn(\"nome_arquivo\", lit(\"atores.csv\"))\n",
    "df_avaliacoes     = df_avaliacoes.withColumn(\"data_hora_bronze\", current_timestamp()).withColumn(\"nome_arquivo\", lit(\"avaliacoes.csv\"))\n",
    "df_episodios  = df_episodios.withColumn(\"data_hora_bronze\", current_timestamp()).withColumn(\"nome_arquivo\", lit(\"episodios.csv\"))\n",
    "df_filmes    = df_filmes.withColumn(\"data_hora_bronze\", current_timestamp()).withColumn(\"nome_arquivo\", lit(\"filmes.csv\"))\n",
    "df_generos     = df_generos.withColumn(\"data_hora_bronze\", current_timestamp()).withColumn(\"nome_arquivo\", lit(\"generos.csv\"))\n",
    "df_pagamentos    = df_pagamentos.withColumn(\"data_hora_bronze\", current_timestamp()).withColumn(\"nome_arquivo\", lit(\"pagamentos.csv\"))\n",
    "df_planos    = df_planos.withColumn(\"data_hora_bronze\", current_timestamp()).withColumn(\"nome_arquivo\", lit(\"planos.csv\"))\n",
    "df_series  = df_series.withColumn(\"data_hora_bronze\", current_timestamp()).withColumn(\"nome_arquivo\", lit(\"series.csv\"))\n",
    "df_usuarios  = df_usuarios.withColumn(\"data_hora_bronze\", current_timestamp()).withColumn(\"nome_arquivo\", lit(\"usuarios.csv\"))\n"
   ]
  },
  {
   "cell_type": "code",
   "execution_count": 0,
   "metadata": {
    "application/vnd.databricks.v1+cell": {
     "cellMetadata": {
      "byteLimit": 2048000,
      "rowLimit": 10000
     },
     "inputWidgets": {},
     "nuid": "bb02cf44-9572-4ee1-8830-c3671012ec49",
     "showTitle": false,
     "tableResultSettingsMap": {},
     "title": ""
    }
   },
   "outputs": [],
   "source": [
    "df_assistencias.write.format('delta').mode(\"overwrite\").save(f\"/mnt/{storageAccountName}/bronze/assistencias\")\n",
    "df_atores.write.format('delta').mode(\"overwrite\").save(f\"/mnt/{storageAccountName}/bronze/atores\")\n",
    "df_avaliacoes.write.format('delta').mode(\"overwrite\").save(f\"/mnt/{storageAccountName}/bronze/avaliacoes\")\n",
    "df_episodios.write.format('delta').mode(\"overwrite\").save(f\"/mnt/{storageAccountName}/bronze/episodios\")\n",
    "df_filmes.write.format('delta').mode(\"overwrite\").save(f\"/mnt/{storageAccountName}/bronze/filmes\")\n",
    "df_generos.write.format('delta').mode(\"overwrite\").save(f\"/mnt/{storageAccountName}/bronze/generos\")\n",
    "df_pagamentos.write.format('delta').mode(\"overwrite\").save(f\"/mnt/{storageAccountName}/bronze/pagamentos\")\n",
    "df_planos.write.format('delta').mode(\"overwrite\").save(f\"/mnt/{storageAccountName}/bronze/planos\")\n",
    "df_series.write.format('delta').mode(\"overwrite\").save(f\"/mnt/{storageAccountName}/bronze/series\")\n",
    "df_usuarios.write.format('delta').mode(\"overwrite\").save(f\"/mnt/{storageAccountName}/bronze/usuarios\")"
   ]
  }
 ],
 "metadata": {
  "application/vnd.databricks.v1+notebook": {
   "computePreferences": null,
   "dashboards": [],
   "environmentMetadata": null,
   "inputWidgetPreferences": null,
   "language": "python",
   "notebookMetadata": {
    "mostRecentlyExecutedCommandWithImplicitDF": {
     "commandId": 3210653005600686,
     "dataframes": [
      "_sqldf"
     ]
    },
    "pythonIndentUnit": 4
   },
   "notebookName": "Atividade Pratica - Lakehouse - Bronze",
   "widgets": {}
  },
  "language_info": {
   "name": "python"
  }
 },
 "nbformat": 4,
 "nbformat_minor": 0
}

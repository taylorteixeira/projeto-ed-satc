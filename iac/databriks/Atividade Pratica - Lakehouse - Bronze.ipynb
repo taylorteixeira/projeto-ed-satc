{
 "cells": [
  {
   "cell_type": "markdown",
   "metadata": {
    "application/vnd.databricks.v1+cell": {
     "cellMetadata": {
      "byteLimit": 2048000,
      "rowLimit": 10000
     },
     "inputWidgets": {},
     "nuid": "bb012007-ab33-41c9-96fe-0d8d29fce69d",
     "showTitle": false,
     "tableResultSettingsMap": {},
     "title": ""
    }
   },
   "source": [
    "##Validando a SparkSession"
   ]
  },
  {
   "cell_type": "code",
   "execution_count": 0,
   "metadata": {
    "application/vnd.databricks.v1+cell": {
     "cellMetadata": {
      "byteLimit": 2048000,
      "rowLimit": 10000
     },
     "inputWidgets": {},
     "nuid": "9f47e85e-40ed-4af3-8f0a-62d799379710",
     "showTitle": false,
     "tableResultSettingsMap": {},
     "title": ""
    }
   },
   "outputs": [
    {
     "output_type": "display_data",
     "data": {
      "text/html": [
       "\n",
       "            <div>\n",
       "                <p><b>SparkSession - hive</b></p>\n",
       "                \n",
       "        <div>\n",
       "            <p><b>SparkContext</b></p>\n",
       "\n",
       "            <p><a href=\"/?o=1531442478748923#setting/sparkui/0605-225837-gtx6qnen/driver-6356082226108804284\">Spark UI</a></p>\n",
       "\n",
       "            <dl>\n",
       "              <dt>Version</dt>\n",
       "                <dd><code>v3.3.2</code></dd>\n",
       "              <dt>Master</dt>\n",
       "                <dd><code>local[8]</code></dd>\n",
       "              <dt>AppName</dt>\n",
       "                <dd><code>Databricks Shell</code></dd>\n",
       "            </dl>\n",
       "        </div>\n",
       "        \n",
       "            </div>\n",
       "        "
      ]
     },
     "metadata": {
      "application/vnd.databricks.v1+output": {
       "addedWidgets": {},
       "arguments": {},
       "data": "\n            <div>\n                <p><b>SparkSession - hive</b></p>\n                \n        <div>\n            <p><b>SparkContext</b></p>\n\n            <p><a href=\"/?o=1531442478748923#setting/sparkui/0605-225837-gtx6qnen/driver-6356082226108804284\">Spark UI</a></p>\n\n            <dl>\n              <dt>Version</dt>\n                <dd><code>v3.3.2</code></dd>\n              <dt>Master</dt>\n                <dd><code>local[8]</code></dd>\n              <dt>AppName</dt>\n                <dd><code>Databricks Shell</code></dd>\n            </dl>\n        </div>\n        \n            </div>\n        ",
       "datasetInfos": [],
       "metadata": {},
       "removedWidgets": [],
       "textData": null,
       "type": "htmlSandbox"
      }
     },
     "output_type": "display_data"
    }
   ],
   "source": [
    "spark"
   ]
  },
  {
   "cell_type": "markdown",
   "metadata": {
    "application/vnd.databricks.v1+cell": {
     "cellMetadata": {
      "byteLimit": 2048000,
      "rowLimit": 10000
     },
     "inputWidgets": {},
     "nuid": "2b235b0d-5e6d-41fd-b9ed-fc9a2367efa6",
     "showTitle": false,
     "tableResultSettingsMap": {},
     "title": ""
    }
   },
   "source": [
    "##Conectando Azure ADLS Gen2 no Databricks"
   ]
  },
  {
   "cell_type": "markdown",
   "metadata": {
    "application/vnd.databricks.v1+cell": {
     "cellMetadata": {
      "byteLimit": 2048000,
      "rowLimit": 10000
     },
     "inputWidgets": {},
     "nuid": "61839b6f-63e3-4a67-ab56-3e2678ebe19c",
     "showTitle": false,
     "tableResultSettingsMap": {},
     "title": ""
    }
   },
   "source": [
    "###Mostrando os pontos de montagem no cluster Databricks"
   ]
  },
  {
   "cell_type": "code",
   "execution_count": 0,
   "metadata": {
    "application/vnd.databricks.v1+cell": {
     "cellMetadata": {
      "byteLimit": 2048000,
      "rowLimit": 10000
     },
     "inputWidgets": {},
     "nuid": "996be72e-0fb9-4953-bc2c-7b1b605cdf8e",
     "showTitle": false,
     "tableResultSettingsMap": {},
     "title": ""
    }
   },
   "outputs": [
    {
     "output_type": "display_data",
     "data": {
      "text/html": [
       "<style scoped>\n",
       "  .table-result-container {\n",
       "    max-height: 300px;\n",
       "    overflow: auto;\n",
       "  }\n",
       "  table, th, td {\n",
       "    border: 1px solid black;\n",
       "    border-collapse: collapse;\n",
       "  }\n",
       "  th, td {\n",
       "    padding: 5px;\n",
       "  }\n",
       "  th {\n",
       "    text-align: left;\n",
       "  }\n",
       "</style><div class='table-result-container'><table class='table-result'><thead style='background-color: white'><tr><th>mountPoint</th><th>source</th><th>encryptionType</th></tr></thead><tbody><tr><td>/mnt/datalake5e11428f5c91fef1/bronze</td><td>wasbs://bronze@datalake5e11428f5c91fef1.blob.core.windows.net</td><td></td></tr><tr><td>/databricks-datasets</td><td>databricks-datasets</td><td></td></tr><tr><td>/mnt/datalake5e11428f5c91fef1/landing-zone</td><td>wasbs://landing-zone@datalake5e11428f5c91fef1.blob.core.windows.net</td><td></td></tr><tr><td>/mnt/datalakee071bd6cd44026cb/bronze</td><td>wasbs://bronze@datalakee071bd6cd44026cb.blob.core.windows.net</td><td></td></tr><tr><td>/mnt/datalakecaad72f806d53ca4/landing-zone</td><td>wasbs://landing-zone@datalakecaad72f806d53ca4.blob.core.windows.net</td><td></td></tr><tr><td>/mnt/datalake5e11428f5c91fef1/gold</td><td>wasbs://gold@datalake5e11428f5c91fef1.blob.core.windows.net</td><td></td></tr><tr><td>/mnt/datalake012782946f42a71f/gold</td><td>wasbs://gold@datalake012782946f42a71f.blob.core.windows.net</td><td></td></tr><tr><td>/mnt/datalakedc9c88dbeeae0858/silver</td><td>wasbs://silver@datalakedc9c88dbeeae0858.blob.core.windows.net</td><td></td></tr><tr><td>/databricks/mlflow-tracking</td><td>databricks/mlflow-tracking</td><td>sse-s3</td></tr><tr><td>/mnt/datalake012782946f42a71f/landing-zone</td><td>wasbs://landing-zone@datalake012782946f42a71f.blob.core.windows.net</td><td></td></tr><tr><td>/databricks-results</td><td>databricks-results</td><td>sse-s3</td></tr><tr><td>/mnt/datalakee071bd6cd44026cb/landing-zone</td><td>wasbs://landing-zone@datalakee071bd6cd44026cb.blob.core.windows.net</td><td></td></tr><tr><td>/databricks/mlflow-registry</td><td>databricks/mlflow-registry</td><td>sse-s3</td></tr><tr><td>/mnt/datalake012782946f42a71f/bronze</td><td>wasbs://bronze@datalake012782946f42a71f.blob.core.windows.net</td><td></td></tr><tr><td>/mnt/datalakedc9c88dbeeae0858/gold</td><td>wasbs://gold@datalakedc9c88dbeeae0858.blob.core.windows.net</td><td></td></tr><tr><td>/mnt/datalake012782946f42a71f/silver</td><td>wasbs://silver@datalake012782946f42a71f.blob.core.windows.net</td><td></td></tr><tr><td>/mnt/datalakedc9c88dbeeae0858/bronze</td><td>wasbs://bronze@datalakedc9c88dbeeae0858.blob.core.windows.net</td><td></td></tr><tr><td>/mnt/datalake5e11428f5c91fef1/silver</td><td>wasbs://silver@datalake5e11428f5c91fef1.blob.core.windows.net</td><td></td></tr><tr><td>/mnt/datalakedc9c88dbeeae0858/landing-zone</td><td>wasbs://landing-zone@datalakedc9c88dbeeae0858.blob.core.windows.net</td><td></td></tr><tr><td>/mnt/datalakecaad72f806d53ca4/bronze</td><td>wasbs://bronze@datalakecaad72f806d53ca4.blob.core.windows.net</td><td></td></tr><tr><td>/mnt/datalake5e11428f5c91fef1/lading-zone</td><td>wasbs://lading-zone@datalake5e11428f5c91fef1.blob.core.windows.net</td><td></td></tr><tr><td>/</td><td>DatabricksRoot</td><td>sse-s3</td></tr></tbody></table></div>"
      ]
     },
     "metadata": {
      "application/vnd.databricks.v1+output": {
       "addedWidgets": {},
       "aggData": [],
       "aggError": "",
       "aggOverflow": false,
       "aggSchema": [],
       "aggSeriesLimitReached": false,
       "aggType": "",
       "arguments": {},
       "columnCustomDisplayInfos": {},
       "data": [
        [
         "/mnt/datalake5e11428f5c91fef1/bronze",
         "wasbs://bronze@datalake5e11428f5c91fef1.blob.core.windows.net",
         ""
        ],
        [
         "/databricks-datasets",
         "databricks-datasets",
         ""
        ],
        [
         "/mnt/datalake5e11428f5c91fef1/landing-zone",
         "wasbs://landing-zone@datalake5e11428f5c91fef1.blob.core.windows.net",
         ""
        ],
        [
         "/mnt/datalakee071bd6cd44026cb/bronze",
         "wasbs://bronze@datalakee071bd6cd44026cb.blob.core.windows.net",
         ""
        ],
        [
         "/mnt/datalakecaad72f806d53ca4/landing-zone",
         "wasbs://landing-zone@datalakecaad72f806d53ca4.blob.core.windows.net",
         ""
        ],
        [
         "/mnt/datalake5e11428f5c91fef1/gold",
         "wasbs://gold@datalake5e11428f5c91fef1.blob.core.windows.net",
         ""
        ],
        [
         "/mnt/datalake012782946f42a71f/gold",
         "wasbs://gold@datalake012782946f42a71f.blob.core.windows.net",
         ""
        ],
        [
         "/mnt/datalakedc9c88dbeeae0858/silver",
         "wasbs://silver@datalakedc9c88dbeeae0858.blob.core.windows.net",
         ""
        ],
        [
         "/databricks/mlflow-tracking",
         "databricks/mlflow-tracking",
         "sse-s3"
        ],
        [
         "/mnt/datalake012782946f42a71f/landing-zone",
         "wasbs://landing-zone@datalake012782946f42a71f.blob.core.windows.net",
         ""
        ],
        [
         "/databricks-results",
         "databricks-results",
         "sse-s3"
        ],
        [
         "/mnt/datalakee071bd6cd44026cb/landing-zone",
         "wasbs://landing-zone@datalakee071bd6cd44026cb.blob.core.windows.net",
         ""
        ],
        [
         "/databricks/mlflow-registry",
         "databricks/mlflow-registry",
         "sse-s3"
        ],
        [
         "/mnt/datalake012782946f42a71f/bronze",
         "wasbs://bronze@datalake012782946f42a71f.blob.core.windows.net",
         ""
        ],
        [
         "/mnt/datalakedc9c88dbeeae0858/gold",
         "wasbs://gold@datalakedc9c88dbeeae0858.blob.core.windows.net",
         ""
        ],
        [
         "/mnt/datalake012782946f42a71f/silver",
         "wasbs://silver@datalake012782946f42a71f.blob.core.windows.net",
         ""
        ],
        [
         "/mnt/datalakedc9c88dbeeae0858/bronze",
         "wasbs://bronze@datalakedc9c88dbeeae0858.blob.core.windows.net",
         ""
        ],
        [
         "/mnt/datalake5e11428f5c91fef1/silver",
         "wasbs://silver@datalake5e11428f5c91fef1.blob.core.windows.net",
         ""
        ],
        [
         "/mnt/datalakedc9c88dbeeae0858/landing-zone",
         "wasbs://landing-zone@datalakedc9c88dbeeae0858.blob.core.windows.net",
         ""
        ],
        [
         "/mnt/datalakecaad72f806d53ca4/bronze",
         "wasbs://bronze@datalakecaad72f806d53ca4.blob.core.windows.net",
         ""
        ],
        [
         "/mnt/datalake5e11428f5c91fef1/lading-zone",
         "wasbs://lading-zone@datalake5e11428f5c91fef1.blob.core.windows.net",
         ""
        ],
        [
         "/",
         "DatabricksRoot",
         "sse-s3"
        ]
       ],
       "datasetInfos": [],
       "dbfsResultPath": null,
       "isJsonSchema": true,
       "metadata": {},
       "overflow": false,
       "plotOptions": {
        "customPlotOptions": {},
        "displayType": "table",
        "pivotAggregation": null,
        "pivotColumns": null,
        "xColumns": null,
        "yColumns": null
       },
       "removedWidgets": [],
       "schema": [
        {
         "metadata": "{}",
         "name": "mountPoint",
         "type": "\"string\""
        },
        {
         "metadata": "{}",
         "name": "source",
         "type": "\"string\""
        },
        {
         "metadata": "{}",
         "name": "encryptionType",
         "type": "\"string\""
        }
       ],
       "type": "table"
      }
     },
     "output_type": "display_data"
    }
   ],
   "source": [
    "display(dbutils.fs.mounts())"
   ]
  },
  {
   "cell_type": "markdown",
   "metadata": {
    "application/vnd.databricks.v1+cell": {
     "cellMetadata": {
      "byteLimit": 2048000,
      "rowLimit": 10000
     },
     "inputWidgets": {},
     "nuid": "c5da882a-1966-4a71-bb6f-58863fa2e301",
     "showTitle": false,
     "tableResultSettingsMap": {},
     "title": ""
    }
   },
   "source": [
    "###Desmontando os pontos de montagem não utilizados"
   ]
  },
  {
   "cell_type": "code",
   "execution_count": 0,
   "metadata": {
    "application/vnd.databricks.v1+cell": {
     "cellMetadata": {
      "byteLimit": 2048000,
      "rowLimit": 10000
     },
     "inputWidgets": {},
     "nuid": "c2bea950-5918-46f5-a6a1-b0bcb0dfd338",
     "showTitle": false,
     "tableResultSettingsMap": {},
     "title": ""
    }
   },
   "outputs": [],
   "source": [
    "#dbutils.fs.unmount('/mnt/datalake37e6a883b8e661af/landing-zone')\n",
    "#dbutils.fs.unmount('/mnt/datalakedc9c88dbeeae0858/bronze')\n",
    "#dbutils.fs.unmount('/mnt/datalakedc9c88dbeeae0858/silver')\n",
    "#dbutils.fs.unmount('/mnt/datalakedc9c88dbeeae0858/gold')"
   ]
  },
  {
   "cell_type": "markdown",
   "metadata": {
    "application/vnd.databricks.v1+cell": {
     "cellMetadata": {
      "byteLimit": 2048000,
      "rowLimit": 10000
     },
     "inputWidgets": {},
     "nuid": "1e233d75-fd2d-442a-a085-bb59f3edf995",
     "showTitle": false,
     "tableResultSettingsMap": {},
     "title": ""
    }
   },
   "source": [
    "### Definindo uma função para montar um ADLS com um ponto de montagem com ADLS SAS "
   ]
  },
  {
   "cell_type": "code",
   "execution_count": 0,
   "metadata": {
    "application/vnd.databricks.v1+cell": {
     "cellMetadata": {
      "byteLimit": 2048000,
      "rowLimit": 10000
     },
     "inputWidgets": {},
     "nuid": "058a3cc4-370c-4abf-8c60-39a7f3f302d1",
     "showTitle": false,
     "tableResultSettingsMap": {},
     "title": ""
    }
   },
   "outputs": [],
   "source": [
    "storageAccountName = \"datalakeeb173f90c7e0bc50\"\n",
    "storageAccountAccessKey = \"\"\n",
    "sasToken = \"sv=2024-11-04&ss=bfqt&srt=sco&sp=rwdlacupyx&se=2025-06-06T06:54:58Z&st=2025-06-05T22:54:58Z&spr=https&sig=rCr16f24u6jMldql1xRMuplwWvT646ItW%2FJurgEsQQ4%3D\"\n",
    "\n",
    "def mount_adls(blobContainerName):\n",
    "    try:\n",
    "      dbutils.fs.mount(\n",
    "        source = \"wasbs://{}@{}.blob.core.windows.net\".format(blobContainerName, storageAccountName),\n",
    "        mount_point = f\"/mnt/{storageAccountName}/{blobContainerName}\",\n",
    "        #extra_configs = {'fs.azure.account.key.' + storageAccountName + '.blob.core.windows.net': storageAccountAccessKey}\n",
    "        extra_configs = {'fs.azure.sas.' + blobContainerName + '.' + storageAccountName + '.blob.core.windows.net': sasToken}\n",
    "      )\n",
    "      print(\"OK!\")\n",
    "    except Exception as e:\n",
    "      print(\"Falha\", e)"
   ]
  },
  {
   "cell_type": "markdown",
   "metadata": {
    "application/vnd.databricks.v1+cell": {
     "cellMetadata": {
      "byteLimit": 2048000,
      "rowLimit": 10000
     },
     "inputWidgets": {},
     "nuid": "40a6dfa7-fb55-46c5-a3a8-44e9bee8f390",
     "showTitle": false,
     "tableResultSettingsMap": {},
     "title": ""
    }
   },
   "source": [
    "###Montando todos os containers"
   ]
  },
  {
   "cell_type": "code",
   "execution_count": 0,
   "metadata": {
    "application/vnd.databricks.v1+cell": {
     "cellMetadata": {
      "byteLimit": 2048000,
      "rowLimit": 10000
     },
     "inputWidgets": {},
     "nuid": "8d62fdfc-2dc8-4465-98fd-834ac8ae9404",
     "showTitle": false,
     "tableResultSettingsMap": {},
     "title": ""
    }
   },
   "outputs": [
    {
     "output_type": "stream",
     "name": "stdout",
     "output_type": "stream",
     "text": [
      "OK!\nOK!\n"
     ]
    }
   ],
   "source": [
    "mount_adls('landing-zone')\n",
    "mount_adls('bronze')\n",
    "#mount_adls('silver')\n",
    "#mount_adls('gold')"
   ]
  },
  {
   "cell_type": "markdown",
   "metadata": {
    "application/vnd.databricks.v1+cell": {
     "cellMetadata": {
      "byteLimit": 2048000,
      "rowLimit": 10000
     },
     "inputWidgets": {},
     "nuid": "fced822b-8bab-437b-8a58-add8a4acd24a",
     "showTitle": false,
     "tableResultSettingsMap": {},
     "title": ""
    }
   },
   "source": [
    "###Mostrando os pontos de montagem no cluster Databricks"
   ]
  },
  {
   "cell_type": "code",
   "execution_count": 0,
   "metadata": {
    "application/vnd.databricks.v1+cell": {
     "cellMetadata": {
      "byteLimit": 2048000,
      "rowLimit": 10000
     },
     "inputWidgets": {},
     "nuid": "d53984ff-8536-4a33-9e43-acfe34489ab1",
     "showTitle": false,
     "tableResultSettingsMap": {},
     "title": ""
    }
   },
   "outputs": [
    {
     "output_type": "display_data",
     "data": {
      "text/html": [
       "<style scoped>\n",
       "  .table-result-container {\n",
       "    max-height: 300px;\n",
       "    overflow: auto;\n",
       "  }\n",
       "  table, th, td {\n",
       "    border: 1px solid black;\n",
       "    border-collapse: collapse;\n",
       "  }\n",
       "  th, td {\n",
       "    padding: 5px;\n",
       "  }\n",
       "  th {\n",
       "    text-align: left;\n",
       "  }\n",
       "</style><div class='table-result-container'><table class='table-result'><thead style='background-color: white'><tr><th>mountPoint</th><th>source</th><th>encryptionType</th></tr></thead><tbody><tr><td>/mnt/datalake5e11428f5c91fef1/bronze</td><td>wasbs://bronze@datalake5e11428f5c91fef1.blob.core.windows.net</td><td></td></tr><tr><td>/databricks-datasets</td><td>databricks-datasets</td><td></td></tr><tr><td>/mnt/datalake5e11428f5c91fef1/landing-zone</td><td>wasbs://landing-zone@datalake5e11428f5c91fef1.blob.core.windows.net</td><td></td></tr><tr><td>/mnt/datalakee071bd6cd44026cb/bronze</td><td>wasbs://bronze@datalakee071bd6cd44026cb.blob.core.windows.net</td><td></td></tr><tr><td>/mnt/datalakecaad72f806d53ca4/landing-zone</td><td>wasbs://landing-zone@datalakecaad72f806d53ca4.blob.core.windows.net</td><td></td></tr><tr><td>/mnt/datalake5e11428f5c91fef1/gold</td><td>wasbs://gold@datalake5e11428f5c91fef1.blob.core.windows.net</td><td></td></tr><tr><td>/mnt/datalake012782946f42a71f/gold</td><td>wasbs://gold@datalake012782946f42a71f.blob.core.windows.net</td><td></td></tr><tr><td>/mnt/datalakeeb173f90c7e0bc50/landing-zone</td><td>wasbs://landing-zone@datalakeeb173f90c7e0bc50.blob.core.windows.net</td><td></td></tr><tr><td>/mnt/datalakedc9c88dbeeae0858/silver</td><td>wasbs://silver@datalakedc9c88dbeeae0858.blob.core.windows.net</td><td></td></tr><tr><td>/databricks/mlflow-tracking</td><td>databricks/mlflow-tracking</td><td>sse-s3</td></tr><tr><td>/mnt/datalake012782946f42a71f/landing-zone</td><td>wasbs://landing-zone@datalake012782946f42a71f.blob.core.windows.net</td><td></td></tr><tr><td>/databricks-results</td><td>databricks-results</td><td>sse-s3</td></tr><tr><td>/mnt/datalakee071bd6cd44026cb/landing-zone</td><td>wasbs://landing-zone@datalakee071bd6cd44026cb.blob.core.windows.net</td><td></td></tr><tr><td>/databricks/mlflow-registry</td><td>databricks/mlflow-registry</td><td>sse-s3</td></tr><tr><td>/mnt/datalake012782946f42a71f/bronze</td><td>wasbs://bronze@datalake012782946f42a71f.blob.core.windows.net</td><td></td></tr><tr><td>/mnt/datalakedc9c88dbeeae0858/gold</td><td>wasbs://gold@datalakedc9c88dbeeae0858.blob.core.windows.net</td><td></td></tr><tr><td>/mnt/datalake012782946f42a71f/silver</td><td>wasbs://silver@datalake012782946f42a71f.blob.core.windows.net</td><td></td></tr><tr><td>/mnt/datalakedc9c88dbeeae0858/bronze</td><td>wasbs://bronze@datalakedc9c88dbeeae0858.blob.core.windows.net</td><td></td></tr><tr><td>/mnt/datalake5e11428f5c91fef1/silver</td><td>wasbs://silver@datalake5e11428f5c91fef1.blob.core.windows.net</td><td></td></tr><tr><td>/mnt/datalakedc9c88dbeeae0858/landing-zone</td><td>wasbs://landing-zone@datalakedc9c88dbeeae0858.blob.core.windows.net</td><td></td></tr><tr><td>/mnt/datalakecaad72f806d53ca4/bronze</td><td>wasbs://bronze@datalakecaad72f806d53ca4.blob.core.windows.net</td><td></td></tr><tr><td>/mnt/datalake5e11428f5c91fef1/lading-zone</td><td>wasbs://lading-zone@datalake5e11428f5c91fef1.blob.core.windows.net</td><td></td></tr><tr><td>/mnt/datalakeeb173f90c7e0bc50/bronze</td><td>wasbs://bronze@datalakeeb173f90c7e0bc50.blob.core.windows.net</td><td></td></tr><tr><td>/</td><td>DatabricksRoot</td><td>sse-s3</td></tr></tbody></table></div>"
      ]
     },
     "metadata": {
      "application/vnd.databricks.v1+output": {
       "addedWidgets": {},
       "aggData": [],
       "aggError": "",
       "aggOverflow": false,
       "aggSchema": [],
       "aggSeriesLimitReached": false,
       "aggType": "",
       "arguments": {},
       "columnCustomDisplayInfos": {},
       "data": [
        [
         "/mnt/datalake5e11428f5c91fef1/bronze",
         "wasbs://bronze@datalake5e11428f5c91fef1.blob.core.windows.net",
         ""
        ],
        [
         "/databricks-datasets",
         "databricks-datasets",
         ""
        ],
        [
         "/mnt/datalake5e11428f5c91fef1/landing-zone",
         "wasbs://landing-zone@datalake5e11428f5c91fef1.blob.core.windows.net",
         ""
        ],
        [
         "/mnt/datalakee071bd6cd44026cb/bronze",
         "wasbs://bronze@datalakee071bd6cd44026cb.blob.core.windows.net",
         ""
        ],
        [
         "/mnt/datalakecaad72f806d53ca4/landing-zone",
         "wasbs://landing-zone@datalakecaad72f806d53ca4.blob.core.windows.net",
         ""
        ],
        [
         "/mnt/datalake5e11428f5c91fef1/gold",
         "wasbs://gold@datalake5e11428f5c91fef1.blob.core.windows.net",
         ""
        ],
        [
         "/mnt/datalake012782946f42a71f/gold",
         "wasbs://gold@datalake012782946f42a71f.blob.core.windows.net",
         ""
        ],
        [
         "/mnt/datalakeeb173f90c7e0bc50/landing-zone",
         "wasbs://landing-zone@datalakeeb173f90c7e0bc50.blob.core.windows.net",
         ""
        ],
        [
         "/mnt/datalakedc9c88dbeeae0858/silver",
         "wasbs://silver@datalakedc9c88dbeeae0858.blob.core.windows.net",
         ""
        ],
        [
         "/databricks/mlflow-tracking",
         "databricks/mlflow-tracking",
         "sse-s3"
        ],
        [
         "/mnt/datalake012782946f42a71f/landing-zone",
         "wasbs://landing-zone@datalake012782946f42a71f.blob.core.windows.net",
         ""
        ],
        [
         "/databricks-results",
         "databricks-results",
         "sse-s3"
        ],
        [
         "/mnt/datalakee071bd6cd44026cb/landing-zone",
         "wasbs://landing-zone@datalakee071bd6cd44026cb.blob.core.windows.net",
         ""
        ],
        [
         "/databricks/mlflow-registry",
         "databricks/mlflow-registry",
         "sse-s3"
        ],
        [
         "/mnt/datalake012782946f42a71f/bronze",
         "wasbs://bronze@datalake012782946f42a71f.blob.core.windows.net",
         ""
        ],
        [
         "/mnt/datalakedc9c88dbeeae0858/gold",
         "wasbs://gold@datalakedc9c88dbeeae0858.blob.core.windows.net",
         ""
        ],
        [
         "/mnt/datalake012782946f42a71f/silver",
         "wasbs://silver@datalake012782946f42a71f.blob.core.windows.net",
         ""
        ],
        [
         "/mnt/datalakedc9c88dbeeae0858/bronze",
         "wasbs://bronze@datalakedc9c88dbeeae0858.blob.core.windows.net",
         ""
        ],
        [
         "/mnt/datalake5e11428f5c91fef1/silver",
         "wasbs://silver@datalake5e11428f5c91fef1.blob.core.windows.net",
         ""
        ],
        [
         "/mnt/datalakedc9c88dbeeae0858/landing-zone",
         "wasbs://landing-zone@datalakedc9c88dbeeae0858.blob.core.windows.net",
         ""
        ],
        [
         "/mnt/datalakecaad72f806d53ca4/bronze",
         "wasbs://bronze@datalakecaad72f806d53ca4.blob.core.windows.net",
         ""
        ],
        [
         "/mnt/datalake5e11428f5c91fef1/lading-zone",
         "wasbs://lading-zone@datalake5e11428f5c91fef1.blob.core.windows.net",
         ""
        ],
        [
         "/mnt/datalakeeb173f90c7e0bc50/bronze",
         "wasbs://bronze@datalakeeb173f90c7e0bc50.blob.core.windows.net",
         ""
        ],
        [
         "/",
         "DatabricksRoot",
         "sse-s3"
        ]
       ],
       "datasetInfos": [],
       "dbfsResultPath": null,
       "isJsonSchema": true,
       "metadata": {},
       "overflow": false,
       "plotOptions": {
        "customPlotOptions": {},
        "displayType": "table",
        "pivotAggregation": null,
        "pivotColumns": null,
        "xColumns": null,
        "yColumns": null
       },
       "removedWidgets": [],
       "schema": [
        {
         "metadata": "{}",
         "name": "mountPoint",
         "type": "\"string\""
        },
        {
         "metadata": "{}",
         "name": "source",
         "type": "\"string\""
        },
        {
         "metadata": "{}",
         "name": "encryptionType",
         "type": "\"string\""
        }
       ],
       "type": "table"
      }
     },
     "output_type": "display_data"
    }
   ],
   "source": [
    "display(dbutils.fs.mounts())"
   ]
  },
  {
   "cell_type": "markdown",
   "metadata": {
    "application/vnd.databricks.v1+cell": {
     "cellMetadata": {
      "byteLimit": 2048000,
      "rowLimit": 10000
     },
     "inputWidgets": {},
     "nuid": "1f6ec630-db65-41cb-9fdf-a941cfafe400",
     "showTitle": false,
     "tableResultSettingsMap": {},
     "title": ""
    }
   },
   "source": [
    "### Mostrando todos os arquivos da camada landing-zone"
   ]
  },
  {
   "cell_type": "code",
   "execution_count": 0,
   "metadata": {
    "application/vnd.databricks.v1+cell": {
     "cellMetadata": {
      "byteLimit": 2048000,
      "rowLimit": 10000
     },
     "inputWidgets": {},
     "nuid": "295f6535-5ab1-43af-a1d3-fadec36b766b",
     "showTitle": false,
     "tableResultSettingsMap": {},
     "title": ""
    }
   },
   "outputs": [
    {
     "output_type": "display_data",
     "data": {
      "text/html": [
       "<style scoped>\n",
       "  .table-result-container {\n",
       "    max-height: 300px;\n",
       "    overflow: auto;\n",
       "  }\n",
       "  table, th, td {\n",
       "    border: 1px solid black;\n",
       "    border-collapse: collapse;\n",
       "  }\n",
       "  th, td {\n",
       "    padding: 5px;\n",
       "  }\n",
       "  th {\n",
       "    text-align: left;\n",
       "  }\n",
       "</style><div class='table-result-container'><table class='table-result'><thead style='background-color: white'><tr><th>path</th><th>name</th><th>size</th><th>modificationTime</th></tr></thead><tbody><tr><td>dbfs:/mnt/datalakeeb173f90c7e0bc50/landing-zone/dados/20250605_200637/assistencias.csv</td><td>assistencias.csv</td><td>1041172</td><td>1749164816000</td></tr><tr><td>dbfs:/mnt/datalakeeb173f90c7e0bc50/landing-zone/dados/20250605_200637/atores.csv</td><td>atores.csv</td><td>632351</td><td>1749164813000</td></tr><tr><td>dbfs:/mnt/datalakeeb173f90c7e0bc50/landing-zone/dados/20250605_200637/avaliacoes.csv</td><td>avaliacoes.csv</td><td>1474948</td><td>1749164811000</td></tr><tr><td>dbfs:/mnt/datalakeeb173f90c7e0bc50/landing-zone/dados/20250605_200637/episodios.csv</td><td>episodios.csv</td><td>1058553</td><td>1749164809000</td></tr><tr><td>dbfs:/mnt/datalakeeb173f90c7e0bc50/landing-zone/dados/20250605_200637/filmes.csv</td><td>filmes.csv</td><td>1641966</td><td>1749164803000</td></tr><tr><td>dbfs:/mnt/datalakeeb173f90c7e0bc50/landing-zone/dados/20250605_200637/generos.csv</td><td>generos.csv</td><td>144</td><td>1749164814000</td></tr><tr><td>dbfs:/mnt/datalakeeb173f90c7e0bc50/landing-zone/dados/20250605_200637/pagamentos.csv</td><td>pagamentos.csv</td><td>715869</td><td>1749164807000</td></tr><tr><td>dbfs:/mnt/datalakeeb173f90c7e0bc50/landing-zone/dados/20250605_200637/planos.csv</td><td>planos.csv</td><td>175</td><td>1749164812000</td></tr><tr><td>dbfs:/mnt/datalakeeb173f90c7e0bc50/landing-zone/dados/20250605_200637/series.csv</td><td>series.csv</td><td>1232093</td><td>1749164805000</td></tr><tr><td>dbfs:/mnt/datalakeeb173f90c7e0bc50/landing-zone/dados/20250605_200637/usuarios.csv</td><td>usuarios.csv</td><td>1693657</td><td>1749164818000</td></tr></tbody></table></div>"
      ]
     },
     "metadata": {
      "application/vnd.databricks.v1+output": {
       "addedWidgets": {},
       "aggData": [],
       "aggError": "",
       "aggOverflow": false,
       "aggSchema": [],
       "aggSeriesLimitReached": false,
       "aggType": "",
       "arguments": {},
       "columnCustomDisplayInfos": {},
       "data": [
        [
         "dbfs:/mnt/datalakeeb173f90c7e0bc50/landing-zone/dados/20250605_200637/assistencias.csv",
         "assistencias.csv",
         1041172,
         1749164816000
        ],
        [
         "dbfs:/mnt/datalakeeb173f90c7e0bc50/landing-zone/dados/20250605_200637/atores.csv",
         "atores.csv",
         632351,
         1749164813000
        ],
        [
         "dbfs:/mnt/datalakeeb173f90c7e0bc50/landing-zone/dados/20250605_200637/avaliacoes.csv",
         "avaliacoes.csv",
         1474948,
         1749164811000
        ],
        [
         "dbfs:/mnt/datalakeeb173f90c7e0bc50/landing-zone/dados/20250605_200637/episodios.csv",
         "episodios.csv",
         1058553,
         1749164809000
        ],
        [
         "dbfs:/mnt/datalakeeb173f90c7e0bc50/landing-zone/dados/20250605_200637/filmes.csv",
         "filmes.csv",
         1641966,
         1749164803000
        ],
        [
         "dbfs:/mnt/datalakeeb173f90c7e0bc50/landing-zone/dados/20250605_200637/generos.csv",
         "generos.csv",
         144,
         1749164814000
        ],
        [
         "dbfs:/mnt/datalakeeb173f90c7e0bc50/landing-zone/dados/20250605_200637/pagamentos.csv",
         "pagamentos.csv",
         715869,
         1749164807000
        ],
        [
         "dbfs:/mnt/datalakeeb173f90c7e0bc50/landing-zone/dados/20250605_200637/planos.csv",
         "planos.csv",
         175,
         1749164812000
        ],
        [
         "dbfs:/mnt/datalakeeb173f90c7e0bc50/landing-zone/dados/20250605_200637/series.csv",
         "series.csv",
         1232093,
         1749164805000
        ],
        [
         "dbfs:/mnt/datalakeeb173f90c7e0bc50/landing-zone/dados/20250605_200637/usuarios.csv",
         "usuarios.csv",
         1693657,
         1749164818000
        ]
       ],
       "datasetInfos": [],
       "dbfsResultPath": null,
       "isJsonSchema": true,
       "metadata": {},
       "overflow": false,
       "plotOptions": {
        "customPlotOptions": {},
        "displayType": "table",
        "pivotAggregation": null,
        "pivotColumns": null,
        "xColumns": null,
        "yColumns": null
       },
       "removedWidgets": [],
       "schema": [
        {
         "metadata": "{}",
         "name": "path",
         "type": "\"string\""
        },
        {
         "metadata": "{}",
         "name": "name",
         "type": "\"string\""
        },
        {
         "metadata": "{}",
         "name": "size",
         "type": "\"long\""
        },
        {
         "metadata": "{}",
         "name": "modificationTime",
         "type": "\"long\""
        }
       ],
       "type": "table"
      }
     },
     "output_type": "display_data"
    }
   ],
   "source": [
    "display(dbutils.fs.ls(f\"/mnt/{storageAccountName}/landing-zone/dados/20250605_200637/\"))"
   ]
  },
  {
   "cell_type": "code",
   "execution_count": 0,
   "metadata": {
    "application/vnd.databricks.v1+cell": {
     "cellMetadata": {
      "byteLimit": 2048000,
      "rowLimit": 10000
     },
     "inputWidgets": {},
     "nuid": "3af7e99b-3ee2-4210-9b0a-000330bcfb3c",
     "showTitle": false,
     "tableResultSettingsMap": {},
     "title": ""
    }
   },
   "outputs": [
    {
     "output_type": "stream",
     "name": "stdout",
     "output_type": "stream",
     "text": [
      "Primeira pasta encontrada: 20250605_200637\n"
     ]
    }
   ],
   "source": [
    "#Lista os diretórios dentro da pasta 'dados',\n",
    "dados_path = f\"/mnt/{storageAccountName}/landing-zone/dados/\"\n",
    "lista_pastas = dbutils.fs.ls(dados_path)\n",
    "\n",
    "#Filtra apenas pastas (opcional, pois normalmente só virão pastas mesmo)\n",
    "pastas = [p.name.replace('/', '') for p in lista_pastas if p.isDir()]\n",
    "\n",
    "#Pega a primeira pasta (ordenada, se necessário),\n",
    "primeira_pasta = sorted(pastas)[-1]  \n",
    "\n",
    "print(f\"Primeira pasta encontrada: {primeira_pasta}\")"
   ]
  },
  {
   "cell_type": "markdown",
   "metadata": {
    "application/vnd.databricks.v1+cell": {
     "cellMetadata": {
      "byteLimit": 2048000,
      "rowLimit": 10000
     },
     "inputWidgets": {},
     "nuid": "1ef3c883-3b0f-44cb-8917-49f1f1fd3819",
     "showTitle": false,
     "tableResultSettingsMap": {},
     "title": ""
    }
   },
   "source": [
    "###Gerando um dataframe para cada arquivo a partir dos arquivos CSV gravado no container landing-zone do Azure Data Lake Storage"
   ]
  },
  {
   "cell_type": "code",
   "execution_count": 0,
   "metadata": {
    "application/vnd.databricks.v1+cell": {
     "cellMetadata": {
      "byteLimit": 2048000,
      "rowLimit": 10000
     },
     "inputWidgets": {},
     "nuid": "37774595-e2cd-4ba0-92aa-4a6f239c0e7b",
     "showTitle": false,
     "tableResultSettingsMap": {},
     "title": ""
    }
   },
   "outputs": [],
   "source": [
    "df_assistencias   = spark.read.option(\"infeschema\", \"true\").option(\"header\", \"true\").csv(f\"/mnt/{storageAccountName}/landing-zone/dados/{primeira_pasta}/assistencias.csv\")\n",
    "df_atores   = spark.read.option(\"infeschema\", \"true\").option(\"header\", \"true\").csv(f\"/mnt/{storageAccountName}/landing-zone/dados/{primeira_pasta}/atores.csv\")\n",
    "df_avaliacoes = spark.read.option(\"infeschema\", \"true\").option(\"header\", \"true\").csv(f\"/mnt/{storageAccountName}/landing-zone/dados/{primeira_pasta}/avaliacoes.csv\")\n",
    "df_episodios = spark.read.option(\"infeschema\", \"true\").option(\"header\", \"true\").csv(f\"/mnt/{storageAccountName}/landing-zone/dados/{primeira_pasta}/episodios.csv\")\n",
    "df_filmes    = spark.read.option(\"infeschema\", \"true\").option(\"header\", \"true\").csv(f\"/mnt/{storageAccountName}/landing-zone/dados/{primeira_pasta}/filmes.csv\")\n",
    "df_generos     = spark.read.option(\"infeschema\", \"true\").option(\"header\", \"true\").csv(f\"/mnt/{storageAccountName}/landing-zone/dados/{primeira_pasta}/generos.csv\")\n",
    "df_pagamentos    = spark.read.option(\"infeschema\", \"true\").option(\"header\", \"true\").csv(f\"/mnt/{storageAccountName}/landing-zone/dados/{primeira_pasta}/pagamentos.csv\")\n",
    "df_planos    = spark.read.option(\"infeschema\", \"true\").option(\"header\", \"true\").csv(f\"/mnt/{storageAccountName}/landing-zone/dados/{primeira_pasta}/planos.csv\")\n",
    "df_series = spark.read.option(\"infeschema\", \"true\").option(\"header\", \"true\").csv(f\"/mnt/{storageAccountName}/landing-zone/dados/{primeira_pasta}/series.csv\")\n",
    "df_usuarios = spark.read.option(\"infeschema\", \"true\").option(\"header\", \"true\").csv(f\"/mnt/{storageAccountName}/landing-zone/dados/{primeira_pasta}/usuarios.csv\")\n"
   ]
  },
  {
   "cell_type": "markdown",
   "metadata": {
    "application/vnd.databricks.v1+cell": {
     "cellMetadata": {
      "byteLimit": 2048000,
      "rowLimit": 10000
     },
     "inputWidgets": {},
     "nuid": "e4ffc23f-8add-4747-b572-b470a7e5eb8f",
     "showTitle": false,
     "tableResultSettingsMap": {},
     "title": ""
    }
   },
   "source": [
    "### Adicionando metadados de data e hora de processamento e nome do arquivo de origem"
   ]
  },
  {
   "cell_type": "code",
   "execution_count": 0,
   "metadata": {
    "application/vnd.databricks.v1+cell": {
     "cellMetadata": {
      "byteLimit": 2048000,
      "rowLimit": 10000
     },
     "inputWidgets": {},
     "nuid": "f278962e-c91a-4900-ba19-27d9b9e08947",
     "showTitle": false,
     "tableResultSettingsMap": {},
     "title": ""
    }
   },
   "outputs": [],
   "source": [
    "from pyspark.sql.functions import current_timestamp, lit\n",
    "\n",
    "df_assistencias   = df_assistencias.withColumn(\"data_hora_bronze\", current_timestamp()).withColumn(\"nome_arquivo\", lit(\"assistencias.csv\"))\n",
    "df_atores   = df_atores.withColumn(\"data_hora_bronze\", current_timestamp()).withColumn(\"nome_arquivo\", lit(\"atores.csv\"))\n",
    "df_avaliacoes     = df_avaliacoes.withColumn(\"data_hora_bronze\", current_timestamp()).withColumn(\"nome_arquivo\", lit(\"avaliacoes.csv\"))\n",
    "df_episodios  = df_episodios.withColumn(\"data_hora_bronze\", current_timestamp()).withColumn(\"nome_arquivo\", lit(\"episodios.csv\"))\n",
    "df_filmes    = df_filmes.withColumn(\"data_hora_bronze\", current_timestamp()).withColumn(\"nome_arquivo\", lit(\"filmes.csv\"))\n",
    "df_generos     = df_generos.withColumn(\"data_hora_bronze\", current_timestamp()).withColumn(\"nome_arquivo\", lit(\"generos.csv\"))\n",
    "df_pagamentos    = df_pagamentos.withColumn(\"data_hora_bronze\", current_timestamp()).withColumn(\"nome_arquivo\", lit(\"pagamentos.csv\"))\n",
    "df_planos    = df_planos.withColumn(\"data_hora_bronze\", current_timestamp()).withColumn(\"nome_arquivo\", lit(\"planos.csv\"))\n",
    "df_series  = df_series.withColumn(\"data_hora_bronze\", current_timestamp()).withColumn(\"nome_arquivo\", lit(\"series.csv\"))\n",
    "df_usuarios  = df_usuarios.withColumn(\"data_hora_bronze\", current_timestamp()).withColumn(\"nome_arquivo\", lit(\"usuarios.csv\"))\n"
   ]
  },
  {
   "cell_type": "markdown",
   "metadata": {
    "application/vnd.databricks.v1+cell": {
     "cellMetadata": {
      "byteLimit": 2048000,
      "rowLimit": 10000
     },
     "inputWidgets": {},
     "nuid": "8d908b82-ff93-4bb6-af69-ec5655308a8f",
     "showTitle": false,
     "tableResultSettingsMap": {},
     "title": ""
    }
   },
   "source": [
    "###Salvando os dataframes em delta lake (formato de arquivo) no data lake (repositorio cloud)"
   ]
  },
  {
   "cell_type": "code",
   "execution_count": 0,
   "metadata": {
    "application/vnd.databricks.v1+cell": {
     "cellMetadata": {
      "byteLimit": 2048000,
      "rowLimit": 10000
     },
     "inputWidgets": {},
     "nuid": "bb02cf44-9572-4ee1-8830-c3671012ec49",
     "showTitle": false,
     "tableResultSettingsMap": {},
     "title": ""
    }
   },
   "outputs": [],
   "source": [
    "df_assistencias.write.format('delta').mode(\"overwrite\").save(f\"/mnt/{storageAccountName}/bronze/assistencias\")\n",
    "df_atores.write.format('delta').mode(\"overwrite\").save(f\"/mnt/{storageAccountName}/bronze/atores\")\n",
    "df_avaliacoes.write.format('delta').mode(\"overwrite\").save(f\"/mnt/{storageAccountName}/bronze/avaliacoes\")\n",
    "df_episodios.write.format('delta').mode(\"overwrite\").save(f\"/mnt/{storageAccountName}/bronze/episodios\")\n",
    "df_filmes.write.format('delta').mode(\"overwrite\").save(f\"/mnt/{storageAccountName}/bronze/filmes\")\n",
    "df_generos.write.format('delta').mode(\"overwrite\").save(f\"/mnt/{storageAccountName}/bronze/generos\")\n",
    "df_pagamentos.write.format('delta').mode(\"overwrite\").save(f\"/mnt/{storageAccountName}/bronze/pagamentos\")\n",
    "df_planos.write.format('delta').mode(\"overwrite\").save(f\"/mnt/{storageAccountName}/bronze/planos\")\n",
    "df_series.write.format('delta').mode(\"overwrite\").save(f\"/mnt/{storageAccountName}/bronze/series\")\n",
    "df_usuarios.write.format('delta').mode(\"overwrite\").save(f\"/mnt/{storageAccountName}/bronze/usuarios\")"
   ]
  },
  {
   "cell_type": "markdown",
   "metadata": {
    "application/vnd.databricks.v1+cell": {
     "cellMetadata": {
      "byteLimit": 2048000,
      "rowLimit": 10000
     },
     "inputWidgets": {},
     "nuid": "511bb1d8-ea04-4a9c-93c4-6b8228f00830",
     "showTitle": false,
     "tableResultSettingsMap": {},
     "title": ""
    }
   },
   "source": [
    "###Verificando os dados gravados em delta na camada bronze"
   ]
  },
  {
   "cell_type": "code",
   "execution_count": 0,
   "metadata": {
    "application/vnd.databricks.v1+cell": {
     "cellMetadata": {
      "byteLimit": 2048000,
      "implicitDf": true,
      "rowLimit": 10000
     },
     "inputWidgets": {},
     "nuid": "6e8454d0-a9de-40dc-b55d-a8aa0156f93f",
     "showTitle": false,
     "tableResultSettingsMap": {},
     "title": ""
    }
   },
   "outputs": [
    {
     "output_type": "display_data",
     "data": {
      "text/html": [
       "<style scoped>\n",
       "  .table-result-container {\n",
       "    max-height: 300px;\n",
       "    overflow: auto;\n",
       "  }\n",
       "  table, th, td {\n",
       "    border: 1px solid black;\n",
       "    border-collapse: collapse;\n",
       "  }\n",
       "  th, td {\n",
       "    padding: 5px;\n",
       "  }\n",
       "  th {\n",
       "    text-align: left;\n",
       "  }\n",
       "</style><div class='table-result-container'><table class='table-result'><thead style='background-color: white'><tr><th>path</th><th>name</th><th>size</th><th>modificationTime</th></tr></thead><tbody><tr><td>dbfs:/mnt/datalakeeb173f90c7e0bc50/bronze/assistencias/</td><td>assistencias/</td><td>0</td><td>0</td></tr><tr><td>dbfs:/mnt/datalakeeb173f90c7e0bc50/bronze/atores/</td><td>atores/</td><td>0</td><td>0</td></tr><tr><td>dbfs:/mnt/datalakeeb173f90c7e0bc50/bronze/avaliacoes/</td><td>avaliacoes/</td><td>0</td><td>0</td></tr><tr><td>dbfs:/mnt/datalakeeb173f90c7e0bc50/bronze/episodios/</td><td>episodios/</td><td>0</td><td>0</td></tr><tr><td>dbfs:/mnt/datalakeeb173f90c7e0bc50/bronze/filmes/</td><td>filmes/</td><td>0</td><td>0</td></tr><tr><td>dbfs:/mnt/datalakeeb173f90c7e0bc50/bronze/generos/</td><td>generos/</td><td>0</td><td>0</td></tr><tr><td>dbfs:/mnt/datalakeeb173f90c7e0bc50/bronze/pagamentos/</td><td>pagamentos/</td><td>0</td><td>0</td></tr><tr><td>dbfs:/mnt/datalakeeb173f90c7e0bc50/bronze/planos/</td><td>planos/</td><td>0</td><td>0</td></tr><tr><td>dbfs:/mnt/datalakeeb173f90c7e0bc50/bronze/series/</td><td>series/</td><td>0</td><td>0</td></tr><tr><td>dbfs:/mnt/datalakeeb173f90c7e0bc50/bronze/usuarios/</td><td>usuarios/</td><td>0</td><td>0</td></tr></tbody></table></div>"
      ]
     },
     "metadata": {
      "application/vnd.databricks.v1+output": {
       "addedWidgets": {},
       "aggData": [],
       "aggError": "",
       "aggOverflow": false,
       "aggSchema": [],
       "aggSeriesLimitReached": false,
       "aggType": "",
       "arguments": {},
       "columnCustomDisplayInfos": {},
       "data": [
        [
         "dbfs:/mnt/datalakeeb173f90c7e0bc50/bronze/assistencias/",
         "assistencias/",
         0,
         0
        ],
        [
         "dbfs:/mnt/datalakeeb173f90c7e0bc50/bronze/atores/",
         "atores/",
         0,
         0
        ],
        [
         "dbfs:/mnt/datalakeeb173f90c7e0bc50/bronze/avaliacoes/",
         "avaliacoes/",
         0,
         0
        ],
        [
         "dbfs:/mnt/datalakeeb173f90c7e0bc50/bronze/episodios/",
         "episodios/",
         0,
         0
        ],
        [
         "dbfs:/mnt/datalakeeb173f90c7e0bc50/bronze/filmes/",
         "filmes/",
         0,
         0
        ],
        [
         "dbfs:/mnt/datalakeeb173f90c7e0bc50/bronze/generos/",
         "generos/",
         0,
         0
        ],
        [
         "dbfs:/mnt/datalakeeb173f90c7e0bc50/bronze/pagamentos/",
         "pagamentos/",
         0,
         0
        ],
        [
         "dbfs:/mnt/datalakeeb173f90c7e0bc50/bronze/planos/",
         "planos/",
         0,
         0
        ],
        [
         "dbfs:/mnt/datalakeeb173f90c7e0bc50/bronze/series/",
         "series/",
         0,
         0
        ],
        [
         "dbfs:/mnt/datalakeeb173f90c7e0bc50/bronze/usuarios/",
         "usuarios/",
         0,
         0
        ]
       ],
       "datasetInfos": [],
       "dbfsResultPath": null,
       "isJsonSchema": true,
       "metadata": {},
       "overflow": false,
       "plotOptions": {
        "customPlotOptions": {},
        "displayType": "table",
        "pivotAggregation": null,
        "pivotColumns": null,
        "xColumns": null,
        "yColumns": null
       },
       "removedWidgets": [],
       "schema": [
        {
         "metadata": "{}",
         "name": "path",
         "type": "\"string\""
        },
        {
         "metadata": "{}",
         "name": "name",
         "type": "\"string\""
        },
        {
         "metadata": "{}",
         "name": "size",
         "type": "\"long\""
        },
        {
         "metadata": "{}",
         "name": "modificationTime",
         "type": "\"long\""
        }
       ],
       "type": "table"
      }
     },
     "output_type": "display_data"
    }
   ],
   "source": [
    "display(dbutils.fs.ls(f\"/mnt/{storageAccountName}/bronze/\"))"
   ]
  },
  {
   "cell_type": "markdown",
   "metadata": {
    "application/vnd.databricks.v1+cell": {
     "cellMetadata": {
      "byteLimit": 2048000,
      "rowLimit": 10000
     },
     "inputWidgets": {},
     "nuid": "f6393fa5-64f2-4e8d-8358-617d0b55f035",
     "showTitle": false,
     "tableResultSettingsMap": {},
     "title": ""
    }
   },
   "source": [
    "### Lendo um exemplo de um delta lake para validar a existencia dos dados e das colunas do metadados"
   ]
  },
  {
   "cell_type": "code",
   "execution_count": 0,
   "metadata": {
    "application/vnd.databricks.v1+cell": {
     "cellMetadata": {
      "byteLimit": 2048000,
      "implicitDf": true,
      "rowLimit": 10000
     },
     "inputWidgets": {},
     "nuid": "84ef9829-3e0e-4807-bc1b-026324f6ed82",
     "showTitle": false,
     "tableResultSettingsMap": {},
     "title": ""
    }
   },
   "outputs": [
    {
     "output_type": "display_data",
     "data": {
      "text/html": [
       "<style scoped>\n",
       "  .table-result-container {\n",
       "    max-height: 300px;\n",
       "    overflow: auto;\n",
       "  }\n",
       "  table, th, td {\n",
       "    border: 1px solid black;\n",
       "    border-collapse: collapse;\n",
       "  }\n",
       "  th, td {\n",
       "    padding: 5px;\n",
       "  }\n",
       "  th {\n",
       "    text-align: left;\n",
       "  }\n",
       "</style><div class='table-result-container'><table class='table-result'><thead style='background-color: white'><tr><th>id_ator</th><th>nome</th><th>data_nascimento</th><th>nacionalidade</th><th>data_hora_bronze</th><th>nome_arquivo</th></tr></thead><tbody><tr><td>1</td><td>Jonathan Schultz</td><td>1977-01-31</td><td>British Virgin Islands</td><td>2025-06-05T23:22:36.732+0000</td><td>atores.csv</td></tr><tr><td>2</td><td>Jasmine Sullivan</td><td>1972-04-23</td><td>Liechtenstein</td><td>2025-06-05T23:22:36.732+0000</td><td>atores.csv</td></tr><tr><td>3</td><td>Scott Simpson</td><td>1979-02-10</td><td>Namibia</td><td>2025-06-05T23:22:36.732+0000</td><td>atores.csv</td></tr><tr><td>4</td><td>Heather Aguilar</td><td>1955-02-08</td><td>Turkmenistan</td><td>2025-06-05T23:22:36.732+0000</td><td>atores.csv</td></tr><tr><td>5</td><td>Gina Young</td><td>1966-12-07</td><td>Finland</td><td>2025-06-05T23:22:36.732+0000</td><td>atores.csv</td></tr><tr><td>6</td><td>Rebecca Silva</td><td>1994-09-04</td><td>Heard Island and McDonald Islands</td><td>2025-06-05T23:22:36.732+0000</td><td>atores.csv</td></tr><tr><td>7</td><td>Stacy Moreno</td><td>2002-11-15</td><td>Grenada</td><td>2025-06-05T23:22:36.732+0000</td><td>atores.csv</td></tr><tr><td>8</td><td>Stephen Rodriguez</td><td>2000-06-03</td><td>Uzbekistan</td><td>2025-06-05T23:22:36.732+0000</td><td>atores.csv</td></tr><tr><td>9</td><td>Janice Cook</td><td>1995-08-08</td><td>Sierra Leone</td><td>2025-06-05T23:22:36.732+0000</td><td>atores.csv</td></tr><tr><td>10</td><td>Nathan Hampton</td><td>1984-04-01</td><td>Sri Lanka</td><td>2025-06-05T23:22:36.732+0000</td><td>atores.csv</td></tr></tbody></table></div>"
      ]
     },
     "metadata": {
      "application/vnd.databricks.v1+output": {
       "addedWidgets": {},
       "aggData": [],
       "aggError": "",
       "aggOverflow": false,
       "aggSchema": [],
       "aggSeriesLimitReached": false,
       "aggType": "",
       "arguments": {},
       "columnCustomDisplayInfos": {},
       "data": [
        [
         "1",
         "Jonathan Schultz",
         "1977-01-31",
         "British Virgin Islands",
         "2025-06-05T23:22:36.732+0000",
         "atores.csv"
        ],
        [
         "2",
         "Jasmine Sullivan",
         "1972-04-23",
         "Liechtenstein",
         "2025-06-05T23:22:36.732+0000",
         "atores.csv"
        ],
        [
         "3",
         "Scott Simpson",
         "1979-02-10",
         "Namibia",
         "2025-06-05T23:22:36.732+0000",
         "atores.csv"
        ],
        [
         "4",
         "Heather Aguilar",
         "1955-02-08",
         "Turkmenistan",
         "2025-06-05T23:22:36.732+0000",
         "atores.csv"
        ],
        [
         "5",
         "Gina Young",
         "1966-12-07",
         "Finland",
         "2025-06-05T23:22:36.732+0000",
         "atores.csv"
        ],
        [
         "6",
         "Rebecca Silva",
         "1994-09-04",
         "Heard Island and McDonald Islands",
         "2025-06-05T23:22:36.732+0000",
         "atores.csv"
        ],
        [
         "7",
         "Stacy Moreno",
         "2002-11-15",
         "Grenada",
         "2025-06-05T23:22:36.732+0000",
         "atores.csv"
        ],
        [
         "8",
         "Stephen Rodriguez",
         "2000-06-03",
         "Uzbekistan",
         "2025-06-05T23:22:36.732+0000",
         "atores.csv"
        ],
        [
         "9",
         "Janice Cook",
         "1995-08-08",
         "Sierra Leone",
         "2025-06-05T23:22:36.732+0000",
         "atores.csv"
        ],
        [
         "10",
         "Nathan Hampton",
         "1984-04-01",
         "Sri Lanka",
         "2025-06-05T23:22:36.732+0000",
         "atores.csv"
        ]
       ],
       "datasetInfos": [],
       "dbfsResultPath": null,
       "isJsonSchema": true,
       "metadata": {},
       "overflow": false,
       "plotOptions": {
        "customPlotOptions": {},
        "displayType": "table",
        "pivotAggregation": null,
        "pivotColumns": null,
        "xColumns": null,
        "yColumns": null
       },
       "removedWidgets": [],
       "schema": [
        {
         "metadata": "{}",
         "name": "id_ator",
         "type": "\"string\""
        },
        {
         "metadata": "{}",
         "name": "nome",
         "type": "\"string\""
        },
        {
         "metadata": "{}",
         "name": "data_nascimento",
         "type": "\"string\""
        },
        {
         "metadata": "{}",
         "name": "nacionalidade",
         "type": "\"string\""
        },
        {
         "metadata": "{}",
         "name": "data_hora_bronze",
         "type": "\"timestamp\""
        },
        {
         "metadata": "{}",
         "name": "nome_arquivo",
         "type": "\"string\""
        }
       ],
       "type": "table"
      }
     },
     "output_type": "display_data"
    }
   ],
   "source": [
    "spark.read.format('delta').load(f'/mnt/{storageAccountName}/bronze/atores').limit(10).display()"
   ]
  }
 ],
 "metadata": {
  "application/vnd.databricks.v1+notebook": {
   "computePreferences": null,
   "dashboards": [],
   "environmentMetadata": null,
   "inputWidgetPreferences": null,
   "language": "python",
   "notebookMetadata": {
    "mostRecentlyExecutedCommandWithImplicitDF": {
     "commandId": 3210653005600686,
     "dataframes": [
      "_sqldf"
     ]
    },
    "pythonIndentUnit": 4
   },
   "notebookName": "Atividade Pratica - Lakehouse - Bronze",
   "widgets": {}
  }
 },
 "nbformat": 4,
 "nbformat_minor": 0
}
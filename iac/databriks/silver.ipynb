{
 "cells": [
  {
   "cell_type": "code",
   "execution_count": 0,
   "metadata": {
    "application/vnd.databricks.v1+cell": {
     "cellMetadata": {
      "byteLimit": 2048000,
      "rowLimit": 10000
     },
     "inputWidgets": {},
     "nuid": "058a3cc4-370c-4abf-8c60-39a7f3f302d1",
     "showTitle": false,
     "tableResultSettingsMap": {},
     "title": ""
    }
   },
   "outputs": [],
   "source": [
    "storageAccountName = \"datalakeeb173f90c7e0bc50\"\n",
    "storageAccountAccessKey = \"\"\n",
    "sasToken = \"sv=2024-11-04&ss=bfqt&srt=sco&sp=rwdlacupyx&se=2025-06-06T06:54:58Z&st=2025-06-05T22:54:58Z&spr=https&sig=rCr16f24u6jMldql1xRMuplwWvT646ItW%2FJurgEsQQ4%3D\"\n",
    "\n",
    "\n",
    "def mount_adls(blobContainerName):\n",
    "    try:\n",
    "      dbutils.fs.mount(\n",
    "        source = \"wasbs://{}@{}.blob.core.windows.net\".format(blobContainerName, storageAccountName),\n",
    "        mount_point = f\"/mnt/{storageAccountName}/{blobContainerName}\",\n",
    "        #extra_configs = {'fs.azure.account.key.' + storageAccountName + '.blob.core.windows.net': storageAccountAccessKey}\n",
    "        extra_configs = {'fs.azure.sas.' + blobContainerName + '.' + storageAccountName + '.blob.core.windows.net': sasToken}\n",
    "      )\n",
    "      print(\"OK!\")\n",
    "    except Exception as e:\n",
    "      print(\"Falha\", e)"
   ]
  },
  {
   "cell_type": "code",
   "execution_count": 0,
   "metadata": {
    "application/vnd.databricks.v1+cell": {
     "cellMetadata": {
      "byteLimit": 2048000,
      "rowLimit": 10000
     },
     "inputWidgets": {},
     "nuid": "8d62fdfc-2dc8-4465-98fd-834ac8ae9404",
     "showTitle": false,
     "tableResultSettingsMap": {},
     "title": ""
    }
   },
   "outputs": [],
   "source": [
    "mount_adls('silver')"
   ]
  },
  {
   "cell_type": "code",
   "execution_count": 0,
   "metadata": {
    "application/vnd.databricks.v1+cell": {
     "cellMetadata": {
      "byteLimit": 2048000,
      "rowLimit": 10000
     },
     "inputWidgets": {},
     "nuid": "37774595-e2cd-4ba0-92aa-4a6f239c0e7b",
     "showTitle": false,
     "tableResultSettingsMap": {},
     "title": ""
    }
   },
   "outputs": [],
   "source": [
    "df_assistencias  = spark.read.format('delta').load(f\"/mnt/{storageAccountName}/bronze/assistencias\")\n",
    "df_atores        = spark.read.format('delta').load(f\"/mnt/{storageAccountName}/bronze/atores\")\n",
    "df_avaliacoes    = spark.read.format('delta').load(f\"/mnt/{storageAccountName}/bronze/avaliacoes\")\n",
    "df_episodios     = spark.read.format('delta').load(f\"/mnt/{storageAccountName}/bronze/episodios\")\n",
    "df_filmes        = spark.read.format('delta').load(f\"/mnt/{storageAccountName}/bronze/filmes\")\n",
    "df_generos       = spark.read.format('delta').load(f\"/mnt/{storageAccountName}/bronze/generos\")\n",
    "df_pagamentos    = spark.read.format('delta').load(f\"/mnt/{storageAccountName}/bronze/pagamentos\")\n",
    "df_planos        = spark.read.format('delta').load(f\"/mnt/{storageAccountName}/bronze/planos\")\n",
    "df_series        = spark.read.format('delta').load(f\"/mnt/{storageAccountName}/bronze/series\")\n",
    "df_usuarios      = spark.read.format('delta').load(f\"/mnt/{storageAccountName}/bronze/usuarios\")"
   ]
  },
  {
   "cell_type": "code",
   "execution_count": 0,
   "metadata": {
    "application/vnd.databricks.v1+cell": {
     "cellMetadata": {
      "byteLimit": 2048000,
      "rowLimit": 10000
     },
     "inputWidgets": {},
     "nuid": "f278962e-c91a-4900-ba19-27d9b9e08947",
     "showTitle": false,
     "tableResultSettingsMap": {},
     "title": ""
    }
   },
   "outputs": [],
   "source": [
    "from pyspark.sql.functions import current_timestamp, lit\n",
    "\n",
    "df_assistencias  = df_assistencias.withColumn(\"data_hora_silver\", current_timestamp()).withColumn(\"nome_arquivo\", lit(\"assistencias\"))\n",
    "df_atores        = df_atores.withColumn(\"data_hora_silver\", current_timestamp()).withColumn(\"nome_arquivo\", lit(\"atores\"))\n",
    "df_avaliacoes    = df_avaliacoes.withColumn(\"data_hora_silver\", current_timestamp()).withColumn(\"nome_arquivo\", lit(\"avaliacoes\"))\n",
    "df_episodios     = df_episodios.withColumn(\"data_hora_silver\", current_timestamp()).withColumn(\"nome_arquivo\", lit(\"episodios\"))\n",
    "df_filmes        = df_filmes.withColumn(\"data_hora_silver\", current_timestamp()).withColumn(\"nome_arquivo\", lit(\"filmes\"))\n",
    "df_generos       = df_generos.withColumn(\"data_hora_silver\", current_timestamp()).withColumn(\"nome_arquivo\", lit(\"generos\"))\n",
    "df_pagamentos    = df_pagamentos.withColumn(\"data_hora_silver\", current_timestamp()).withColumn(\"nome_arquivo\", lit(\"pagamentos\"))\n",
    "df_planos        = df_planos.withColumn(\"data_hora_silver\", current_timestamp()).withColumn(\"nome_arquivo\", lit(\"planos\"))\n",
    "df_series        = df_series.withColumn(\"data_hora_silver\", current_timestamp()).withColumn(\"nome_arquivo\", lit(\"series\"))\n",
    "df_usuarios      = df_usuarios.withColumn(\"data_hora_silver\", current_timestamp()).withColumn(\"nome_arquivo\", lit(\"usuarios\"))\n"
   ]
  },
  {
   "cell_type": "code",
   "execution_count": 0,
   "metadata": {
    "application/vnd.databricks.v1+cell": {
     "cellMetadata": {
      "byteLimit": 2048000,
      "rowLimit": 10000
     },
     "inputWidgets": {},
     "nuid": "35ef7fda-3ad5-447a-892e-16429040fa37",
     "showTitle": false,
     "tableResultSettingsMap": {},
     "title": ""
    }
   },
   "outputs": [],
   "source": [
    "def renomear_colunas(diretorio):\n",
    "\n",
    "    df = spark.read.format('delta').load(diretorio)\n",
    "\n",
    "    tabela = diretorio.split('/')[-2]\n",
    "\n",
    "    for coluna in df.columns:\n",
    "        novo_nome = coluna.upper()\n",
    "        novo_nome = novo_nome.replace(\"CD_\", \"CODIGO_\")\n",
    "        novo_nome = novo_nome.replace(\"VL_\", \"VALOR_\")\n",
    "        novo_nome = novo_nome.replace(\"DT_\", \"DATA_\")\n",
    "        novo_nome = novo_nome.replace(\"NM_\", \"NOME_\")\n",
    "        novo_nome = novo_nome.replace(\"DS_\", \"DESCRICAO_\")\n",
    "        novo_nome = novo_nome.replace(\"NR_\", \"NUMERO_\")\n",
    "        novo_nome = novo_nome.replace(\"_UF\", \"_UNIDADE_FEDERATIVA\")\n",
    "        df = df.withColumnRenamed(coluna, novo_nome)\n",
    "        df = df.drop(\"DATA_HORA_BRONZE\")\n",
    "        df = df.drop(\"NOME_ARQUIVO\")\n",
    "        df = df.withColumn(\"NOME_ARQUIVO_BRONZE\", lit(tabela))\n",
    "        df = df.withColumn(\"DATA_ARQUIVO_SILVER\", current_timestamp())\n",
    "\n",
    "    df.write.format('delta').mode(\"overwrite\").save(f\"/mnt/{storageAccountName}/silver/{tabela}\")\n",
    "\n",
    "def renomear_arquivos_delta(diretorio):\n",
    "\n",
    "    nomes_arquivos_delta = []\n",
    "\n",
    "    arquivos = dbutils.fs.ls(diretorio)\n",
    "    \n",
    "    for arquivo in arquivos:\n",
    "        nome_arquivo = arquivo.path\n",
    "        renomear_colunas(nome_arquivo)\n",
    "\n",
    "    return nomes_arquivos_delta"
   ]
  },
  {
   "cell_type": "code",
   "execution_count": 0,
   "metadata": {
    "application/vnd.databricks.v1+cell": {
     "cellMetadata": {
      "byteLimit": 2048000,
      "rowLimit": 10000
     },
     "inputWidgets": {},
     "nuid": "9f1daab8-07de-459e-ac48-855cb49780a2",
     "showTitle": false,
     "tableResultSettingsMap": {},
     "title": ""
    }
   },
   "outputs": [],
   "source": [
    "diretorio = f'/mnt/{storageAccountName}/bronze'\n",
    "\n",
    "renomear_arquivos_delta(diretorio)"
   ]
  }
 ],
 "metadata": {
  "application/vnd.databricks.v1+notebook": {
   "computePreferences": null,
   "dashboards": [],
   "environmentMetadata": null,
   "inputWidgetPreferences": null,
   "language": "python",
   "notebookMetadata": {
    "mostRecentlyExecutedCommandWithImplicitDF": {
     "commandId": 3210653005600686,
     "dataframes": [
      "_sqldf"
     ]
    },
    "pythonIndentUnit": 4
   },
   "notebookName": "Atividade Pratica - Lakehouse - Silver",
   "widgets": {}
  },
  "language_info": {
   "name": "python"
  }
 },
 "nbformat": 4,
 "nbformat_minor": 0
}

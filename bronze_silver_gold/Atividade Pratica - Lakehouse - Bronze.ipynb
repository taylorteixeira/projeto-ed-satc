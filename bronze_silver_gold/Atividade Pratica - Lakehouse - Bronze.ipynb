{
 "cells": [
  {
   "cell_type": "markdown",
   "metadata": {
    "application/vnd.databricks.v1+cell": {
     "cellMetadata": {
      "byteLimit": 2048000,
      "rowLimit": 10000
     },
     "inputWidgets": {},
     "nuid": "bb012007-ab33-41c9-96fe-0d8d29fce69d",
     "showTitle": false,
     "tableResultSettingsMap": {},
     "title": ""
    }
   },
   "source": [
    "##Validando a SparkSession"
   ]
  },
  {
   "cell_type": "code",
   "execution_count": 0,
   "metadata": {
    "application/vnd.databricks.v1+cell": {
     "cellMetadata": {
      "byteLimit": 2048000,
      "rowLimit": 10000
     },
     "inputWidgets": {},
     "nuid": "9f47e85e-40ed-4af3-8f0a-62d799379710",
     "showTitle": false,
     "tableResultSettingsMap": {},
     "title": ""
    }
   },
   "outputs": [
    {
     "output_type": "display_data",
     "data": {
      "text/html": [
       "\n",
       "            <div>\n",
       "                <p><b>SparkSession - hive</b></p>\n",
       "                \n",
       "        <div>\n",
       "            <p><b>SparkContext</b></p>\n",
       "\n",
       "            <p><a href=\"/?o=1531442478748923#setting/sparkui/0607-124658-qei507fp/driver-5433258531031866426\">Spark UI</a></p>\n",
       "\n",
       "            <dl>\n",
       "              <dt>Version</dt>\n",
       "                <dd><code>v3.3.2</code></dd>\n",
       "              <dt>Master</dt>\n",
       "                <dd><code>local[8]</code></dd>\n",
       "              <dt>AppName</dt>\n",
       "                <dd><code>Databricks Shell</code></dd>\n",
       "            </dl>\n",
       "        </div>\n",
       "        \n",
       "            </div>\n",
       "        "
      ]
     },
     "metadata": {
      "application/vnd.databricks.v1+output": {
       "addedWidgets": {},
       "arguments": {},
       "data": "\n            <div>\n                <p><b>SparkSession - hive</b></p>\n                \n        <div>\n            <p><b>SparkContext</b></p>\n\n            <p><a href=\"/?o=1531442478748923#setting/sparkui/0607-124658-qei507fp/driver-5433258531031866426\">Spark UI</a></p>\n\n            <dl>\n              <dt>Version</dt>\n                <dd><code>v3.3.2</code></dd>\n              <dt>Master</dt>\n                <dd><code>local[8]</code></dd>\n              <dt>AppName</dt>\n                <dd><code>Databricks Shell</code></dd>\n            </dl>\n        </div>\n        \n            </div>\n        ",
       "datasetInfos": [],
       "metadata": {},
       "removedWidgets": [],
       "textData": null,
       "type": "htmlSandbox"
      }
     },
     "output_type": "display_data"
    }
   ],
   "source": [
    "spark"
   ]
  },
  {
   "cell_type": "markdown",
   "metadata": {
    "application/vnd.databricks.v1+cell": {
     "cellMetadata": {
      "byteLimit": 2048000,
      "rowLimit": 10000
     },
     "inputWidgets": {},
     "nuid": "2b235b0d-5e6d-41fd-b9ed-fc9a2367efa6",
     "showTitle": false,
     "tableResultSettingsMap": {},
     "title": ""
    }
   },
   "source": [
    "##Conectando Azure ADLS Gen2 no Databricks"
   ]
  },
  {
   "cell_type": "markdown",
   "metadata": {
    "application/vnd.databricks.v1+cell": {
     "cellMetadata": {
      "byteLimit": 2048000,
      "rowLimit": 10000
     },
     "inputWidgets": {},
     "nuid": "61839b6f-63e3-4a67-ab56-3e2678ebe19c",
     "showTitle": false,
     "tableResultSettingsMap": {},
     "title": ""
    }
   },
   "source": [
    "###Mostrando os pontos de montagem no cluster Databricks"
   ]
  },
  {
   "cell_type": "code",
   "execution_count": 0,
   "metadata": {
    "application/vnd.databricks.v1+cell": {
     "cellMetadata": {
      "byteLimit": 2048000,
      "rowLimit": 10000
     },
     "inputWidgets": {},
     "nuid": "996be72e-0fb9-4953-bc2c-7b1b605cdf8e",
     "showTitle": false,
     "tableResultSettingsMap": {},
     "title": ""
    }
   },
   "outputs": [
    {
     "output_type": "display_data",
     "data": {
      "text/html": [
       "<style scoped>\n",
       "  .table-result-container {\n",
       "    max-height: 300px;\n",
       "    overflow: auto;\n",
       "  }\n",
       "  table, th, td {\n",
       "    border: 1px solid black;\n",
       "    border-collapse: collapse;\n",
       "  }\n",
       "  th, td {\n",
       "    padding: 5px;\n",
       "  }\n",
       "  th {\n",
       "    text-align: left;\n",
       "  }\n",
       "</style><div class='table-result-container'><table class='table-result'><thead style='background-color: white'><tr><th>mountPoint</th><th>source</th><th>encryptionType</th></tr></thead><tbody><tr><td>/mnt/datalake5e11428f5c91fef1/bronze</td><td>wasbs://bronze@datalake5e11428f5c91fef1.blob.core.windows.net</td><td></td></tr><tr><td>/databricks-datasets</td><td>databricks-datasets</td><td></td></tr><tr><td>/mnt/datalake5e11428f5c91fef1/landing-zone</td><td>wasbs://landing-zone@datalake5e11428f5c91fef1.blob.core.windows.net</td><td></td></tr><tr><td>/mnt/datalakee071bd6cd44026cb/bronze</td><td>wasbs://bronze@datalakee071bd6cd44026cb.blob.core.windows.net</td><td></td></tr><tr><td>/mnt/datalakecaad72f806d53ca4/landing-zone</td><td>wasbs://landing-zone@datalakecaad72f806d53ca4.blob.core.windows.net</td><td></td></tr><tr><td>/mnt/datalake5e11428f5c91fef1/gold</td><td>wasbs://gold@datalake5e11428f5c91fef1.blob.core.windows.net</td><td></td></tr><tr><td>/mnt/datalake012782946f42a71f/gold</td><td>wasbs://gold@datalake012782946f42a71f.blob.core.windows.net</td><td></td></tr><tr><td>/mnt/datalakeeb173f90c7e0bc50/gold</td><td>wasbs://gold@datalakeeb173f90c7e0bc50.blob.core.windows.net</td><td></td></tr><tr><td>/mnt/datalakeeb173f90c7e0bc50/landing-zone</td><td>wasbs://landing-zone@datalakeeb173f90c7e0bc50.blob.core.windows.net</td><td></td></tr><tr><td>/mnt/datalakedc9c88dbeeae0858/silver</td><td>wasbs://silver@datalakedc9c88dbeeae0858.blob.core.windows.net</td><td></td></tr><tr><td>/databricks/mlflow-tracking</td><td>databricks/mlflow-tracking</td><td>sse-s3</td></tr><tr><td>/mnt/datalake012782946f42a71f/landing-zone</td><td>wasbs://landing-zone@datalake012782946f42a71f.blob.core.windows.net</td><td></td></tr><tr><td>/databricks-results</td><td>databricks-results</td><td>sse-s3</td></tr><tr><td>/mnt/raw</td><td>wasbs://raw@datalakeeb173f90c7e0bc50.blob.core.windows.net</td><td></td></tr><tr><td>/mnt/datalakeeb173f90c7e0bc50/silver</td><td>wasbs://silver@datalakeeb173f90c7e0bc50.blob.core.windows.net</td><td></td></tr><tr><td>/mnt/datalakee071bd6cd44026cb/landing-zone</td><td>wasbs://landing-zone@datalakee071bd6cd44026cb.blob.core.windows.net</td><td></td></tr><tr><td>/databricks/mlflow-registry</td><td>databricks/mlflow-registry</td><td>sse-s3</td></tr><tr><td>/mnt/datalake012782946f42a71f/bronze</td><td>wasbs://bronze@datalake012782946f42a71f.blob.core.windows.net</td><td></td></tr><tr><td>/mnt/datalakedc9c88dbeeae0858/gold</td><td>wasbs://gold@datalakedc9c88dbeeae0858.blob.core.windows.net</td><td></td></tr><tr><td>/mnt/datalake012782946f42a71f/silver</td><td>wasbs://silver@datalake012782946f42a71f.blob.core.windows.net</td><td></td></tr><tr><td>/mnt/datalakedc9c88dbeeae0858/bronze</td><td>wasbs://bronze@datalakedc9c88dbeeae0858.blob.core.windows.net</td><td></td></tr><tr><td>/mnt/datalake5e11428f5c91fef1/silver</td><td>wasbs://silver@datalake5e11428f5c91fef1.blob.core.windows.net</td><td></td></tr><tr><td>/mnt/datalakedc9c88dbeeae0858/landing-zone</td><td>wasbs://landing-zone@datalakedc9c88dbeeae0858.blob.core.windows.net</td><td></td></tr><tr><td>/mnt/datalakecaad72f806d53ca4/bronze</td><td>wasbs://bronze@datalakecaad72f806d53ca4.blob.core.windows.net</td><td></td></tr><tr><td>/mnt/datalake5e11428f5c91fef1/lading-zone</td><td>wasbs://lading-zone@datalake5e11428f5c91fef1.blob.core.windows.net</td><td></td></tr><tr><td>/mnt/datalakeeb173f90c7e0bc50/bronze</td><td>wasbs://bronze@datalakeeb173f90c7e0bc50.blob.core.windows.net</td><td></td></tr><tr><td>/</td><td>DatabricksRoot</td><td>sse-s3</td></tr></tbody></table></div>"
      ]
     },
     "metadata": {
      "application/vnd.databricks.v1+output": {
       "addedWidgets": {},
       "aggData": [],
       "aggError": "",
       "aggOverflow": false,
       "aggSchema": [],
       "aggSeriesLimitReached": false,
       "aggType": "",
       "arguments": {},
       "columnCustomDisplayInfos": {},
       "data": [
        [
         "/mnt/datalake5e11428f5c91fef1/bronze",
         "wasbs://bronze@datalake5e11428f5c91fef1.blob.core.windows.net",
         ""
        ],
        [
         "/databricks-datasets",
         "databricks-datasets",
         ""
        ],
        [
         "/mnt/datalake5e11428f5c91fef1/landing-zone",
         "wasbs://landing-zone@datalake5e11428f5c91fef1.blob.core.windows.net",
         ""
        ],
        [
         "/mnt/datalakee071bd6cd44026cb/bronze",
         "wasbs://bronze@datalakee071bd6cd44026cb.blob.core.windows.net",
         ""
        ],
        [
         "/mnt/datalakecaad72f806d53ca4/landing-zone",
         "wasbs://landing-zone@datalakecaad72f806d53ca4.blob.core.windows.net",
         ""
        ],
        [
         "/mnt/datalake5e11428f5c91fef1/gold",
         "wasbs://gold@datalake5e11428f5c91fef1.blob.core.windows.net",
         ""
        ],
        [
         "/mnt/datalake012782946f42a71f/gold",
         "wasbs://gold@datalake012782946f42a71f.blob.core.windows.net",
         ""
        ],
        [
         "/mnt/datalakeeb173f90c7e0bc50/gold",
         "wasbs://gold@datalakeeb173f90c7e0bc50.blob.core.windows.net",
         ""
        ],
        [
         "/mnt/datalakeeb173f90c7e0bc50/landing-zone",
         "wasbs://landing-zone@datalakeeb173f90c7e0bc50.blob.core.windows.net",
         ""
        ],
        [
         "/mnt/datalakedc9c88dbeeae0858/silver",
         "wasbs://silver@datalakedc9c88dbeeae0858.blob.core.windows.net",
         ""
        ],
        [
         "/databricks/mlflow-tracking",
         "databricks/mlflow-tracking",
         "sse-s3"
        ],
        [
         "/mnt/datalake012782946f42a71f/landing-zone",
         "wasbs://landing-zone@datalake012782946f42a71f.blob.core.windows.net",
         ""
        ],
        [
         "/databricks-results",
         "databricks-results",
         "sse-s3"
        ],
        [
         "/mnt/raw",
         "wasbs://raw@datalakeeb173f90c7e0bc50.blob.core.windows.net",
         ""
        ],
        [
         "/mnt/datalakeeb173f90c7e0bc50/silver",
         "wasbs://silver@datalakeeb173f90c7e0bc50.blob.core.windows.net",
         ""
        ],
        [
         "/mnt/datalakee071bd6cd44026cb/landing-zone",
         "wasbs://landing-zone@datalakee071bd6cd44026cb.blob.core.windows.net",
         ""
        ],
        [
         "/databricks/mlflow-registry",
         "databricks/mlflow-registry",
         "sse-s3"
        ],
        [
         "/mnt/datalake012782946f42a71f/bronze",
         "wasbs://bronze@datalake012782946f42a71f.blob.core.windows.net",
         ""
        ],
        [
         "/mnt/datalakedc9c88dbeeae0858/gold",
         "wasbs://gold@datalakedc9c88dbeeae0858.blob.core.windows.net",
         ""
        ],
        [
         "/mnt/datalake012782946f42a71f/silver",
         "wasbs://silver@datalake012782946f42a71f.blob.core.windows.net",
         ""
        ],
        [
         "/mnt/datalakedc9c88dbeeae0858/bronze",
         "wasbs://bronze@datalakedc9c88dbeeae0858.blob.core.windows.net",
         ""
        ],
        [
         "/mnt/datalake5e11428f5c91fef1/silver",
         "wasbs://silver@datalake5e11428f5c91fef1.blob.core.windows.net",
         ""
        ],
        [
         "/mnt/datalakedc9c88dbeeae0858/landing-zone",
         "wasbs://landing-zone@datalakedc9c88dbeeae0858.blob.core.windows.net",
         ""
        ],
        [
         "/mnt/datalakecaad72f806d53ca4/bronze",
         "wasbs://bronze@datalakecaad72f806d53ca4.blob.core.windows.net",
         ""
        ],
        [
         "/mnt/datalake5e11428f5c91fef1/lading-zone",
         "wasbs://lading-zone@datalake5e11428f5c91fef1.blob.core.windows.net",
         ""
        ],
        [
         "/mnt/datalakeeb173f90c7e0bc50/bronze",
         "wasbs://bronze@datalakeeb173f90c7e0bc50.blob.core.windows.net",
         ""
        ],
        [
         "/",
         "DatabricksRoot",
         "sse-s3"
        ]
       ],
       "datasetInfos": [],
       "dbfsResultPath": null,
       "isJsonSchema": true,
       "metadata": {},
       "overflow": false,
       "plotOptions": {
        "customPlotOptions": {},
        "displayType": "table",
        "pivotAggregation": null,
        "pivotColumns": null,
        "xColumns": null,
        "yColumns": null
       },
       "removedWidgets": [],
       "schema": [
        {
         "metadata": "{}",
         "name": "mountPoint",
         "type": "\"string\""
        },
        {
         "metadata": "{}",
         "name": "source",
         "type": "\"string\""
        },
        {
         "metadata": "{}",
         "name": "encryptionType",
         "type": "\"string\""
        }
       ],
       "type": "table"
      }
     },
     "output_type": "display_data"
    }
   ],
   "source": [
    "display(dbutils.fs.mounts())"
   ]
  },
  {
   "cell_type": "markdown",
   "metadata": {
    "application/vnd.databricks.v1+cell": {
     "cellMetadata": {
      "byteLimit": 2048000,
      "rowLimit": 10000
     },
     "inputWidgets": {},
     "nuid": "c5da882a-1966-4a71-bb6f-58863fa2e301",
     "showTitle": false,
     "tableResultSettingsMap": {},
     "title": ""
    }
   },
   "source": [
    "###Desmontando os pontos de montagem não utilizados"
   ]
  },
  {
   "cell_type": "code",
   "execution_count": 0,
   "metadata": {
    "application/vnd.databricks.v1+cell": {
     "cellMetadata": {
      "byteLimit": 2048000,
      "rowLimit": 10000
     },
     "inputWidgets": {},
     "nuid": "c2bea950-5918-46f5-a6a1-b0bcb0dfd338",
     "showTitle": false,
     "tableResultSettingsMap": {},
     "title": ""
    }
   },
   "outputs": [],
   "source": [
    "#dbutils.fs.unmount('/mnt/datalake37e6a883b8e661af/landing-zone')\n",
    "#dbutils.fs.unmount('/mnt/datalakedc9c88dbeeae0858/bronze')\n",
    "#dbutils.fs.unmount('/mnt/datalakedc9c88dbeeae0858/silver')\n",
    "#dbutils.fs.unmount('/mnt/datalakedc9c88dbeeae0858/gold')"
   ]
  },
  {
   "cell_type": "markdown",
   "metadata": {
    "application/vnd.databricks.v1+cell": {
     "cellMetadata": {
      "byteLimit": 2048000,
      "rowLimit": 10000
     },
     "inputWidgets": {},
     "nuid": "1e233d75-fd2d-442a-a085-bb59f3edf995",
     "showTitle": false,
     "tableResultSettingsMap": {},
     "title": ""
    }
   },
   "source": [
    "### Definindo uma função para montar um ADLS com um ponto de montagem com ADLS SAS "
   ]
  },
  {
   "cell_type": "code",
   "execution_count": 0,
   "metadata": {
    "application/vnd.databricks.v1+cell": {
     "cellMetadata": {
      "byteLimit": 2048000,
      "rowLimit": 10000
     },
     "inputWidgets": {},
     "nuid": "058a3cc4-370c-4abf-8c60-39a7f3f302d1",
     "showTitle": false,
     "tableResultSettingsMap": {},
     "title": ""
    }
   },
   "outputs": [],
   "source": [
    "storageAccountName = \"datalake38e9700bde697944\"\n",
    "storageAccountAccessKey = \"\"\n",
    "sasToken = \"sv=2024-11-04&ss=bfqt&srt=sco&sp=rwdlacupyx&se=2025-06-07T20:57:48Z&st=2025-06-07T12:57:48Z&spr=https&sig=rgRuDhJyj2YxYhJEpf1iRbxaP80HJNAs%2BC7MjJA4Cnc%3D\"\n",
    "\n",
    "def mount_adls(blobContainerName):\n",
    "    try:\n",
    "      dbutils.fs.mount(\n",
    "        source = \"wasbs://{}@{}.blob.core.windows.net\".format(blobContainerName, storageAccountName),\n",
    "        mount_point = f\"/mnt/{storageAccountName}/{blobContainerName}\",\n",
    "        #extra_configs = {'fs.azure.account.key.' + storageAccountName + '.blob.core.windows.net': storageAccountAccessKey}\n",
    "        extra_configs = {'fs.azure.sas.' + blobContainerName + '.' + storageAccountName + '.blob.core.windows.net': sasToken}\n",
    "      )\n",
    "      print(\"OK!\")\n",
    "    except Exception as e:\n",
    "      print(\"Falha\", e)"
   ]
  },
  {
   "cell_type": "markdown",
   "metadata": {
    "application/vnd.databricks.v1+cell": {
     "cellMetadata": {
      "byteLimit": 2048000,
      "rowLimit": 10000
     },
     "inputWidgets": {},
     "nuid": "40a6dfa7-fb55-46c5-a3a8-44e9bee8f390",
     "showTitle": false,
     "tableResultSettingsMap": {},
     "title": ""
    }
   },
   "source": [
    "###Montando todos os containers"
   ]
  },
  {
   "cell_type": "code",
   "execution_count": 0,
   "metadata": {
    "application/vnd.databricks.v1+cell": {
     "cellMetadata": {
      "byteLimit": 2048000,
      "rowLimit": 10000
     },
     "inputWidgets": {},
     "nuid": "8d62fdfc-2dc8-4465-98fd-834ac8ae9404",
     "showTitle": false,
     "tableResultSettingsMap": {},
     "title": ""
    }
   },
   "outputs": [
    {
     "output_type": "stream",
     "name": "stdout",
     "output_type": "stream",
     "text": [
      "OK!\nOK!\n"
     ]
    }
   ],
   "source": [
    "mount_adls('landing-zone')\n",
    "mount_adls('bronze')\n",
    "#mount_adls('silver')\n",
    "#mount_adls('gold')"
   ]
  },
  {
   "cell_type": "markdown",
   "metadata": {
    "application/vnd.databricks.v1+cell": {
     "cellMetadata": {
      "byteLimit": 2048000,
      "rowLimit": 10000
     },
     "inputWidgets": {},
     "nuid": "fced822b-8bab-437b-8a58-add8a4acd24a",
     "showTitle": false,
     "tableResultSettingsMap": {},
     "title": ""
    }
   },
   "source": [
    "###Mostrando os pontos de montagem no cluster Databricks"
   ]
  },
  {
   "cell_type": "code",
   "execution_count": 0,
   "metadata": {
    "application/vnd.databricks.v1+cell": {
     "cellMetadata": {
      "byteLimit": 2048000,
      "rowLimit": 10000
     },
     "inputWidgets": {},
     "nuid": "d53984ff-8536-4a33-9e43-acfe34489ab1",
     "showTitle": false,
     "tableResultSettingsMap": {},
     "title": ""
    }
   },
   "outputs": [
    {
     "output_type": "display_data",
     "data": {
      "text/html": [
       "<style scoped>\n",
       "  .table-result-container {\n",
       "    max-height: 300px;\n",
       "    overflow: auto;\n",
       "  }\n",
       "  table, th, td {\n",
       "    border: 1px solid black;\n",
       "    border-collapse: collapse;\n",
       "  }\n",
       "  th, td {\n",
       "    padding: 5px;\n",
       "  }\n",
       "  th {\n",
       "    text-align: left;\n",
       "  }\n",
       "</style><div class='table-result-container'><table class='table-result'><thead style='background-color: white'><tr><th>mountPoint</th><th>source</th><th>encryptionType</th></tr></thead><tbody><tr><td>/mnt/datalake5e11428f5c91fef1/bronze</td><td>wasbs://bronze@datalake5e11428f5c91fef1.blob.core.windows.net</td><td></td></tr><tr><td>/databricks-datasets</td><td>databricks-datasets</td><td></td></tr><tr><td>/mnt/datalake5e11428f5c91fef1/landing-zone</td><td>wasbs://landing-zone@datalake5e11428f5c91fef1.blob.core.windows.net</td><td></td></tr><tr><td>/mnt/datalakee071bd6cd44026cb/bronze</td><td>wasbs://bronze@datalakee071bd6cd44026cb.blob.core.windows.net</td><td></td></tr><tr><td>/mnt/datalakecaad72f806d53ca4/landing-zone</td><td>wasbs://landing-zone@datalakecaad72f806d53ca4.blob.core.windows.net</td><td></td></tr><tr><td>/mnt/datalake5e11428f5c91fef1/gold</td><td>wasbs://gold@datalake5e11428f5c91fef1.blob.core.windows.net</td><td></td></tr><tr><td>/mnt/datalake38e9700bde697944/bronze</td><td>wasbs://bronze@datalake38e9700bde697944.blob.core.windows.net</td><td></td></tr><tr><td>/mnt/datalake012782946f42a71f/gold</td><td>wasbs://gold@datalake012782946f42a71f.blob.core.windows.net</td><td></td></tr><tr><td>/mnt/datalakeeb173f90c7e0bc50/gold</td><td>wasbs://gold@datalakeeb173f90c7e0bc50.blob.core.windows.net</td><td></td></tr><tr><td>/mnt/datalakeeb173f90c7e0bc50/landing-zone</td><td>wasbs://landing-zone@datalakeeb173f90c7e0bc50.blob.core.windows.net</td><td></td></tr><tr><td>/mnt/datalakedc9c88dbeeae0858/silver</td><td>wasbs://silver@datalakedc9c88dbeeae0858.blob.core.windows.net</td><td></td></tr><tr><td>/databricks/mlflow-tracking</td><td>databricks/mlflow-tracking</td><td>sse-s3</td></tr><tr><td>/mnt/datalake012782946f42a71f/landing-zone</td><td>wasbs://landing-zone@datalake012782946f42a71f.blob.core.windows.net</td><td></td></tr><tr><td>/databricks-results</td><td>databricks-results</td><td>sse-s3</td></tr><tr><td>/mnt/raw</td><td>wasbs://raw@datalakeeb173f90c7e0bc50.blob.core.windows.net</td><td></td></tr><tr><td>/mnt/datalakeeb173f90c7e0bc50/silver</td><td>wasbs://silver@datalakeeb173f90c7e0bc50.blob.core.windows.net</td><td></td></tr><tr><td>/mnt/datalakee071bd6cd44026cb/landing-zone</td><td>wasbs://landing-zone@datalakee071bd6cd44026cb.blob.core.windows.net</td><td></td></tr><tr><td>/databricks/mlflow-registry</td><td>databricks/mlflow-registry</td><td>sse-s3</td></tr><tr><td>/mnt/datalake012782946f42a71f/bronze</td><td>wasbs://bronze@datalake012782946f42a71f.blob.core.windows.net</td><td></td></tr><tr><td>/mnt/datalakedc9c88dbeeae0858/gold</td><td>wasbs://gold@datalakedc9c88dbeeae0858.blob.core.windows.net</td><td></td></tr><tr><td>/mnt/datalake012782946f42a71f/silver</td><td>wasbs://silver@datalake012782946f42a71f.blob.core.windows.net</td><td></td></tr><tr><td>/mnt/datalakedc9c88dbeeae0858/bronze</td><td>wasbs://bronze@datalakedc9c88dbeeae0858.blob.core.windows.net</td><td></td></tr><tr><td>/mnt/datalake5e11428f5c91fef1/silver</td><td>wasbs://silver@datalake5e11428f5c91fef1.blob.core.windows.net</td><td></td></tr><tr><td>/mnt/datalakedc9c88dbeeae0858/landing-zone</td><td>wasbs://landing-zone@datalakedc9c88dbeeae0858.blob.core.windows.net</td><td></td></tr><tr><td>/mnt/datalakecaad72f806d53ca4/bronze</td><td>wasbs://bronze@datalakecaad72f806d53ca4.blob.core.windows.net</td><td></td></tr><tr><td>/mnt/datalake38e9700bde697944/landing-zone</td><td>wasbs://landing-zone@datalake38e9700bde697944.blob.core.windows.net</td><td></td></tr><tr><td>/mnt/datalake5e11428f5c91fef1/lading-zone</td><td>wasbs://lading-zone@datalake5e11428f5c91fef1.blob.core.windows.net</td><td></td></tr><tr><td>/mnt/datalakeeb173f90c7e0bc50/bronze</td><td>wasbs://bronze@datalakeeb173f90c7e0bc50.blob.core.windows.net</td><td></td></tr><tr><td>/</td><td>DatabricksRoot</td><td>sse-s3</td></tr></tbody></table></div>"
      ]
     },
     "metadata": {
      "application/vnd.databricks.v1+output": {
       "addedWidgets": {},
       "aggData": [],
       "aggError": "",
       "aggOverflow": false,
       "aggSchema": [],
       "aggSeriesLimitReached": false,
       "aggType": "",
       "arguments": {},
       "columnCustomDisplayInfos": {},
       "data": [
        [
         "/mnt/datalake5e11428f5c91fef1/bronze",
         "wasbs://bronze@datalake5e11428f5c91fef1.blob.core.windows.net",
         ""
        ],
        [
         "/databricks-datasets",
         "databricks-datasets",
         ""
        ],
        [
         "/mnt/datalake5e11428f5c91fef1/landing-zone",
         "wasbs://landing-zone@datalake5e11428f5c91fef1.blob.core.windows.net",
         ""
        ],
        [
         "/mnt/datalakee071bd6cd44026cb/bronze",
         "wasbs://bronze@datalakee071bd6cd44026cb.blob.core.windows.net",
         ""
        ],
        [
         "/mnt/datalakecaad72f806d53ca4/landing-zone",
         "wasbs://landing-zone@datalakecaad72f806d53ca4.blob.core.windows.net",
         ""
        ],
        [
         "/mnt/datalake5e11428f5c91fef1/gold",
         "wasbs://gold@datalake5e11428f5c91fef1.blob.core.windows.net",
         ""
        ],
        [
         "/mnt/datalake38e9700bde697944/bronze",
         "wasbs://bronze@datalake38e9700bde697944.blob.core.windows.net",
         ""
        ],
        [
         "/mnt/datalake012782946f42a71f/gold",
         "wasbs://gold@datalake012782946f42a71f.blob.core.windows.net",
         ""
        ],
        [
         "/mnt/datalakeeb173f90c7e0bc50/gold",
         "wasbs://gold@datalakeeb173f90c7e0bc50.blob.core.windows.net",
         ""
        ],
        [
         "/mnt/datalakeeb173f90c7e0bc50/landing-zone",
         "wasbs://landing-zone@datalakeeb173f90c7e0bc50.blob.core.windows.net",
         ""
        ],
        [
         "/mnt/datalakedc9c88dbeeae0858/silver",
         "wasbs://silver@datalakedc9c88dbeeae0858.blob.core.windows.net",
         ""
        ],
        [
         "/databricks/mlflow-tracking",
         "databricks/mlflow-tracking",
         "sse-s3"
        ],
        [
         "/mnt/datalake012782946f42a71f/landing-zone",
         "wasbs://landing-zone@datalake012782946f42a71f.blob.core.windows.net",
         ""
        ],
        [
         "/databricks-results",
         "databricks-results",
         "sse-s3"
        ],
        [
         "/mnt/raw",
         "wasbs://raw@datalakeeb173f90c7e0bc50.blob.core.windows.net",
         ""
        ],
        [
         "/mnt/datalakeeb173f90c7e0bc50/silver",
         "wasbs://silver@datalakeeb173f90c7e0bc50.blob.core.windows.net",
         ""
        ],
        [
         "/mnt/datalakee071bd6cd44026cb/landing-zone",
         "wasbs://landing-zone@datalakee071bd6cd44026cb.blob.core.windows.net",
         ""
        ],
        [
         "/databricks/mlflow-registry",
         "databricks/mlflow-registry",
         "sse-s3"
        ],
        [
         "/mnt/datalake012782946f42a71f/bronze",
         "wasbs://bronze@datalake012782946f42a71f.blob.core.windows.net",
         ""
        ],
        [
         "/mnt/datalakedc9c88dbeeae0858/gold",
         "wasbs://gold@datalakedc9c88dbeeae0858.blob.core.windows.net",
         ""
        ],
        [
         "/mnt/datalake012782946f42a71f/silver",
         "wasbs://silver@datalake012782946f42a71f.blob.core.windows.net",
         ""
        ],
        [
         "/mnt/datalakedc9c88dbeeae0858/bronze",
         "wasbs://bronze@datalakedc9c88dbeeae0858.blob.core.windows.net",
         ""
        ],
        [
         "/mnt/datalake5e11428f5c91fef1/silver",
         "wasbs://silver@datalake5e11428f5c91fef1.blob.core.windows.net",
         ""
        ],
        [
         "/mnt/datalakedc9c88dbeeae0858/landing-zone",
         "wasbs://landing-zone@datalakedc9c88dbeeae0858.blob.core.windows.net",
         ""
        ],
        [
         "/mnt/datalakecaad72f806d53ca4/bronze",
         "wasbs://bronze@datalakecaad72f806d53ca4.blob.core.windows.net",
         ""
        ],
        [
         "/mnt/datalake38e9700bde697944/landing-zone",
         "wasbs://landing-zone@datalake38e9700bde697944.blob.core.windows.net",
         ""
        ],
        [
         "/mnt/datalake5e11428f5c91fef1/lading-zone",
         "wasbs://lading-zone@datalake5e11428f5c91fef1.blob.core.windows.net",
         ""
        ],
        [
         "/mnt/datalakeeb173f90c7e0bc50/bronze",
         "wasbs://bronze@datalakeeb173f90c7e0bc50.blob.core.windows.net",
         ""
        ],
        [
         "/",
         "DatabricksRoot",
         "sse-s3"
        ]
       ],
       "datasetInfos": [],
       "dbfsResultPath": null,
       "isJsonSchema": true,
       "metadata": {},
       "overflow": false,
       "plotOptions": {
        "customPlotOptions": {},
        "displayType": "table",
        "pivotAggregation": null,
        "pivotColumns": null,
        "xColumns": null,
        "yColumns": null
       },
       "removedWidgets": [],
       "schema": [
        {
         "metadata": "{}",
         "name": "mountPoint",
         "type": "\"string\""
        },
        {
         "metadata": "{}",
         "name": "source",
         "type": "\"string\""
        },
        {
         "metadata": "{}",
         "name": "encryptionType",
         "type": "\"string\""
        }
       ],
       "type": "table"
      }
     },
     "output_type": "display_data"
    }
   ],
   "source": [
    "display(dbutils.fs.mounts())"
   ]
  },
  {
   "cell_type": "markdown",
   "metadata": {
    "application/vnd.databricks.v1+cell": {
     "cellMetadata": {
      "byteLimit": 2048000,
      "rowLimit": 10000
     },
     "inputWidgets": {},
     "nuid": "1f6ec630-db65-41cb-9fdf-a941cfafe400",
     "showTitle": false,
     "tableResultSettingsMap": {},
     "title": ""
    }
   },
   "source": [
    "### Mostrando todos os arquivos da camada landing-zone"
   ]
  },
  {
   "cell_type": "code",
   "execution_count": 0,
   "metadata": {
    "application/vnd.databricks.v1+cell": {
     "cellMetadata": {
      "byteLimit": 2048000,
      "rowLimit": 10000
     },
     "inputWidgets": {},
     "nuid": "295f6535-5ab1-43af-a1d3-fadec36b766b",
     "showTitle": false,
     "tableResultSettingsMap": {},
     "title": ""
    }
   },
   "outputs": [
    {
     "output_type": "display_data",
     "data": {
      "text/html": [
       "<style scoped>\n",
       "  .table-result-container {\n",
       "    max-height: 300px;\n",
       "    overflow: auto;\n",
       "  }\n",
       "  table, th, td {\n",
       "    border: 1px solid black;\n",
       "    border-collapse: collapse;\n",
       "  }\n",
       "  th, td {\n",
       "    padding: 5px;\n",
       "  }\n",
       "  th {\n",
       "    text-align: left;\n",
       "  }\n",
       "</style><div class='table-result-container'><table class='table-result'><thead style='background-color: white'><tr><th>path</th><th>name</th><th>size</th><th>modificationTime</th></tr></thead><tbody><tr><td>dbfs:/mnt/datalake38e9700bde697944/landing-zone/dados/20250607_101223/assistencias.csv</td><td>assistencias.csv</td><td>1041172</td><td>1749301963000</td></tr><tr><td>dbfs:/mnt/datalake38e9700bde697944/landing-zone/dados/20250607_101223/atores.csv</td><td>atores.csv</td><td>632351</td><td>1749301959000</td></tr><tr><td>dbfs:/mnt/datalake38e9700bde697944/landing-zone/dados/20250607_101223/avaliacoes.csv</td><td>avaliacoes.csv</td><td>1474948</td><td>1749301957000</td></tr><tr><td>dbfs:/mnt/datalake38e9700bde697944/landing-zone/dados/20250607_101223/episodios.csv</td><td>episodios.csv</td><td>1058553</td><td>1749301954000</td></tr><tr><td>dbfs:/mnt/datalake38e9700bde697944/landing-zone/dados/20250607_101223/filmes.csv</td><td>filmes.csv</td><td>1641966</td><td>1749301948000</td></tr><tr><td>dbfs:/mnt/datalake38e9700bde697944/landing-zone/dados/20250607_101223/generos.csv</td><td>generos.csv</td><td>144</td><td>1749301960000</td></tr><tr><td>dbfs:/mnt/datalake38e9700bde697944/landing-zone/dados/20250607_101223/pagamentos.csv</td><td>pagamentos.csv</td><td>715869</td><td>1749301952000</td></tr><tr><td>dbfs:/mnt/datalake38e9700bde697944/landing-zone/dados/20250607_101223/planos.csv</td><td>planos.csv</td><td>175</td><td>1749301958000</td></tr><tr><td>dbfs:/mnt/datalake38e9700bde697944/landing-zone/dados/20250607_101223/series.csv</td><td>series.csv</td><td>1232093</td><td>1749301949000</td></tr><tr><td>dbfs:/mnt/datalake38e9700bde697944/landing-zone/dados/20250607_101223/usuarios.csv</td><td>usuarios.csv</td><td>1693657</td><td>1749301965000</td></tr></tbody></table></div>"
      ]
     },
     "metadata": {
      "application/vnd.databricks.v1+output": {
       "addedWidgets": {},
       "aggData": [],
       "aggError": "",
       "aggOverflow": false,
       "aggSchema": [],
       "aggSeriesLimitReached": false,
       "aggType": "",
       "arguments": {},
       "columnCustomDisplayInfos": {},
       "data": [
        [
         "dbfs:/mnt/datalake38e9700bde697944/landing-zone/dados/20250607_101223/assistencias.csv",
         "assistencias.csv",
         1041172,
         1749301963000
        ],
        [
         "dbfs:/mnt/datalake38e9700bde697944/landing-zone/dados/20250607_101223/atores.csv",
         "atores.csv",
         632351,
         1749301959000
        ],
        [
         "dbfs:/mnt/datalake38e9700bde697944/landing-zone/dados/20250607_101223/avaliacoes.csv",
         "avaliacoes.csv",
         1474948,
         1749301957000
        ],
        [
         "dbfs:/mnt/datalake38e9700bde697944/landing-zone/dados/20250607_101223/episodios.csv",
         "episodios.csv",
         1058553,
         1749301954000
        ],
        [
         "dbfs:/mnt/datalake38e9700bde697944/landing-zone/dados/20250607_101223/filmes.csv",
         "filmes.csv",
         1641966,
         1749301948000
        ],
        [
         "dbfs:/mnt/datalake38e9700bde697944/landing-zone/dados/20250607_101223/generos.csv",
         "generos.csv",
         144,
         1749301960000
        ],
        [
         "dbfs:/mnt/datalake38e9700bde697944/landing-zone/dados/20250607_101223/pagamentos.csv",
         "pagamentos.csv",
         715869,
         1749301952000
        ],
        [
         "dbfs:/mnt/datalake38e9700bde697944/landing-zone/dados/20250607_101223/planos.csv",
         "planos.csv",
         175,
         1749301958000
        ],
        [
         "dbfs:/mnt/datalake38e9700bde697944/landing-zone/dados/20250607_101223/series.csv",
         "series.csv",
         1232093,
         1749301949000
        ],
        [
         "dbfs:/mnt/datalake38e9700bde697944/landing-zone/dados/20250607_101223/usuarios.csv",
         "usuarios.csv",
         1693657,
         1749301965000
        ]
       ],
       "datasetInfos": [],
       "dbfsResultPath": null,
       "isJsonSchema": true,
       "metadata": {},
       "overflow": false,
       "plotOptions": {
        "customPlotOptions": {},
        "displayType": "table",
        "pivotAggregation": null,
        "pivotColumns": null,
        "xColumns": null,
        "yColumns": null
       },
       "removedWidgets": [],
       "schema": [
        {
         "metadata": "{}",
         "name": "path",
         "type": "\"string\""
        },
        {
         "metadata": "{}",
         "name": "name",
         "type": "\"string\""
        },
        {
         "metadata": "{}",
         "name": "size",
         "type": "\"long\""
        },
        {
         "metadata": "{}",
         "name": "modificationTime",
         "type": "\"long\""
        }
       ],
       "type": "table"
      }
     },
     "output_type": "display_data"
    }
   ],
   "source": [
    "display(dbutils.fs.ls(f\"/mnt/{storageAccountName}/landing-zone/dados/20250607_101223/\"))"
   ]
  },
  {
   "cell_type": "code",
   "execution_count": 0,
   "metadata": {
    "application/vnd.databricks.v1+cell": {
     "cellMetadata": {
      "byteLimit": 2048000,
      "rowLimit": 10000
     },
     "inputWidgets": {},
     "nuid": "3af7e99b-3ee2-4210-9b0a-000330bcfb3c",
     "showTitle": false,
     "tableResultSettingsMap": {},
     "title": ""
    }
   },
   "outputs": [
    {
     "output_type": "stream",
     "name": "stdout",
     "output_type": "stream",
     "text": [
      "Primeira pasta encontrada: 20250607_101223\n"
     ]
    }
   ],
   "source": [
    "#Lista os diretórios dentro da pasta 'dados',\n",
    "dados_path = f\"/mnt/{storageAccountName}/landing-zone/dados/\"\n",
    "lista_pastas = dbutils.fs.ls(dados_path)\n",
    "\n",
    "#Filtra apenas pastas (opcional, pois normalmente só virão pastas mesmo)\n",
    "pastas = [p.name.replace('/', '') for p in lista_pastas if p.isDir()]\n",
    "\n",
    "#Pega a primeira pasta (ordenada, se necessário),\n",
    "primeira_pasta = sorted(pastas)[-1]  \n",
    "\n",
    "print(f\"Primeira pasta encontrada: {primeira_pasta}\")"
   ]
  },
  {
   "cell_type": "markdown",
   "metadata": {
    "application/vnd.databricks.v1+cell": {
     "cellMetadata": {
      "byteLimit": 2048000,
      "rowLimit": 10000
     },
     "inputWidgets": {},
     "nuid": "1ef3c883-3b0f-44cb-8917-49f1f1fd3819",
     "showTitle": false,
     "tableResultSettingsMap": {},
     "title": ""
    }
   },
   "source": [
    "###Gerando um dataframe para cada arquivo a partir dos arquivos CSV gravado no container landing-zone do Azure Data Lake Storage"
   ]
  },
  {
   "cell_type": "code",
   "execution_count": 0,
   "metadata": {
    "application/vnd.databricks.v1+cell": {
     "cellMetadata": {
      "byteLimit": 2048000,
      "rowLimit": 10000
     },
     "inputWidgets": {},
     "nuid": "37774595-e2cd-4ba0-92aa-4a6f239c0e7b",
     "showTitle": false,
     "tableResultSettingsMap": {},
     "title": ""
    }
   },
   "outputs": [],
   "source": [
    "df_assistencias   = spark.read.option(\"infeschema\", \"true\").option(\"header\", \"true\").csv(f\"/mnt/{storageAccountName}/landing-zone/dados/{primeira_pasta}/assistencias.csv\")\n",
    "df_atores   = spark.read.option(\"infeschema\", \"true\").option(\"header\", \"true\").csv(f\"/mnt/{storageAccountName}/landing-zone/dados/{primeira_pasta}/atores.csv\")\n",
    "df_avaliacoes = spark.read.option(\"infeschema\", \"true\").option(\"header\", \"true\").csv(f\"/mnt/{storageAccountName}/landing-zone/dados/{primeira_pasta}/avaliacoes.csv\")\n",
    "df_episodios = spark.read.option(\"infeschema\", \"true\").option(\"header\", \"true\").csv(f\"/mnt/{storageAccountName}/landing-zone/dados/{primeira_pasta}/episodios.csv\")\n",
    "df_filmes    = spark.read.option(\"infeschema\", \"true\").option(\"header\", \"true\").csv(f\"/mnt/{storageAccountName}/landing-zone/dados/{primeira_pasta}/filmes.csv\")\n",
    "df_generos     = spark.read.option(\"infeschema\", \"true\").option(\"header\", \"true\").csv(f\"/mnt/{storageAccountName}/landing-zone/dados/{primeira_pasta}/generos.csv\")\n",
    "df_pagamentos    = spark.read.option(\"infeschema\", \"true\").option(\"header\", \"true\").csv(f\"/mnt/{storageAccountName}/landing-zone/dados/{primeira_pasta}/pagamentos.csv\")\n",
    "df_planos    = spark.read.option(\"infeschema\", \"true\").option(\"header\", \"true\").csv(f\"/mnt/{storageAccountName}/landing-zone/dados/{primeira_pasta}/planos.csv\")\n",
    "df_series = spark.read.option(\"infeschema\", \"true\").option(\"header\", \"true\").csv(f\"/mnt/{storageAccountName}/landing-zone/dados/{primeira_pasta}/series.csv\")\n",
    "df_usuarios = spark.read.option(\"infeschema\", \"true\").option(\"header\", \"true\").csv(f\"/mnt/{storageAccountName}/landing-zone/dados/{primeira_pasta}/usuarios.csv\")\n"
   ]
  },
  {
   "cell_type": "markdown",
   "metadata": {
    "application/vnd.databricks.v1+cell": {
     "cellMetadata": {
      "byteLimit": 2048000,
      "rowLimit": 10000
     },
     "inputWidgets": {},
     "nuid": "e4ffc23f-8add-4747-b572-b470a7e5eb8f",
     "showTitle": false,
     "tableResultSettingsMap": {},
     "title": ""
    }
   },
   "source": [
    "### Adicionando metadados de data e hora de processamento e nome do arquivo de origem"
   ]
  },
  {
   "cell_type": "code",
   "execution_count": 0,
   "metadata": {
    "application/vnd.databricks.v1+cell": {
     "cellMetadata": {
      "byteLimit": 2048000,
      "rowLimit": 10000
     },
     "inputWidgets": {},
     "nuid": "f278962e-c91a-4900-ba19-27d9b9e08947",
     "showTitle": false,
     "tableResultSettingsMap": {},
     "title": ""
    }
   },
   "outputs": [],
   "source": [
    "from pyspark.sql.functions import current_timestamp, lit\n",
    "\n",
    "df_assistencias   = df_assistencias.withColumn(\"data_hora_bronze\", current_timestamp()).withColumn(\"nome_arquivo\", lit(\"assistencias.csv\"))\n",
    "df_atores   = df_atores.withColumn(\"data_hora_bronze\", current_timestamp()).withColumn(\"nome_arquivo\", lit(\"atores.csv\"))\n",
    "df_avaliacoes     = df_avaliacoes.withColumn(\"data_hora_bronze\", current_timestamp()).withColumn(\"nome_arquivo\", lit(\"avaliacoes.csv\"))\n",
    "df_episodios  = df_episodios.withColumn(\"data_hora_bronze\", current_timestamp()).withColumn(\"nome_arquivo\", lit(\"episodios.csv\"))\n",
    "df_filmes    = df_filmes.withColumn(\"data_hora_bronze\", current_timestamp()).withColumn(\"nome_arquivo\", lit(\"filmes.csv\"))\n",
    "df_generos     = df_generos.withColumn(\"data_hora_bronze\", current_timestamp()).withColumn(\"nome_arquivo\", lit(\"generos.csv\"))\n",
    "df_pagamentos    = df_pagamentos.withColumn(\"data_hora_bronze\", current_timestamp()).withColumn(\"nome_arquivo\", lit(\"pagamentos.csv\"))\n",
    "df_planos    = df_planos.withColumn(\"data_hora_bronze\", current_timestamp()).withColumn(\"nome_arquivo\", lit(\"planos.csv\"))\n",
    "df_series  = df_series.withColumn(\"data_hora_bronze\", current_timestamp()).withColumn(\"nome_arquivo\", lit(\"series.csv\"))\n",
    "df_usuarios  = df_usuarios.withColumn(\"data_hora_bronze\", current_timestamp()).withColumn(\"nome_arquivo\", lit(\"usuarios.csv\"))\n"
   ]
  },
  {
   "cell_type": "markdown",
   "metadata": {
    "application/vnd.databricks.v1+cell": {
     "cellMetadata": {
      "byteLimit": 2048000,
      "rowLimit": 10000
     },
     "inputWidgets": {},
     "nuid": "8d908b82-ff93-4bb6-af69-ec5655308a8f",
     "showTitle": false,
     "tableResultSettingsMap": {},
     "title": ""
    }
   },
   "source": [
    "###Salvando os dataframes em delta lake (formato de arquivo) no data lake (repositorio cloud)"
   ]
  },
  {
   "cell_type": "code",
   "execution_count": 0,
   "metadata": {
    "application/vnd.databricks.v1+cell": {
     "cellMetadata": {
      "byteLimit": 2048000,
      "rowLimit": 10000
     },
     "inputWidgets": {},
     "nuid": "bb02cf44-9572-4ee1-8830-c3671012ec49",
     "showTitle": false,
     "tableResultSettingsMap": {},
     "title": ""
    }
   },
   "outputs": [],
   "source": [
    "df_assistencias.write.format('delta').mode(\"overwrite\").save(f\"/mnt/{storageAccountName}/bronze/assistencias\")\n",
    "df_atores.write.format('delta').mode(\"overwrite\").save(f\"/mnt/{storageAccountName}/bronze/atores\")\n",
    "df_avaliacoes.write.format('delta').mode(\"overwrite\").save(f\"/mnt/{storageAccountName}/bronze/avaliacoes\")\n",
    "df_episodios.write.format('delta').mode(\"overwrite\").save(f\"/mnt/{storageAccountName}/bronze/episodios\")\n",
    "df_filmes.write.format('delta').mode(\"overwrite\").save(f\"/mnt/{storageAccountName}/bronze/filmes\")\n",
    "df_generos.write.format('delta').mode(\"overwrite\").save(f\"/mnt/{storageAccountName}/bronze/generos\")\n",
    "df_pagamentos.write.format('delta').mode(\"overwrite\").save(f\"/mnt/{storageAccountName}/bronze/pagamentos\")\n",
    "df_planos.write.format('delta').mode(\"overwrite\").save(f\"/mnt/{storageAccountName}/bronze/planos\")\n",
    "df_series.write.format('delta').mode(\"overwrite\").save(f\"/mnt/{storageAccountName}/bronze/series\")\n",
    "df_usuarios.write.format('delta').mode(\"overwrite\").save(f\"/mnt/{storageAccountName}/bronze/usuarios\")"
   ]
  },
  {
   "cell_type": "markdown",
   "metadata": {
    "application/vnd.databricks.v1+cell": {
     "cellMetadata": {
      "byteLimit": 2048000,
      "rowLimit": 10000
     },
     "inputWidgets": {},
     "nuid": "511bb1d8-ea04-4a9c-93c4-6b8228f00830",
     "showTitle": false,
     "tableResultSettingsMap": {},
     "title": ""
    }
   },
   "source": [
    "###Verificando os dados gravados em delta na camada bronze"
   ]
  },
  {
   "cell_type": "code",
   "execution_count": 0,
   "metadata": {
    "application/vnd.databricks.v1+cell": {
     "cellMetadata": {
      "byteLimit": 2048000,
      "implicitDf": true,
      "rowLimit": 10000
     },
     "inputWidgets": {},
     "nuid": "6e8454d0-a9de-40dc-b55d-a8aa0156f93f",
     "showTitle": false,
     "tableResultSettingsMap": {},
     "title": ""
    }
   },
   "outputs": [
    {
     "output_type": "display_data",
     "data": {
      "text/html": [
       "<style scoped>\n",
       "  .table-result-container {\n",
       "    max-height: 300px;\n",
       "    overflow: auto;\n",
       "  }\n",
       "  table, th, td {\n",
       "    border: 1px solid black;\n",
       "    border-collapse: collapse;\n",
       "  }\n",
       "  th, td {\n",
       "    padding: 5px;\n",
       "  }\n",
       "  th {\n",
       "    text-align: left;\n",
       "  }\n",
       "</style><div class='table-result-container'><table class='table-result'><thead style='background-color: white'><tr><th>path</th><th>name</th><th>size</th><th>modificationTime</th></tr></thead><tbody><tr><td>dbfs:/mnt/datalake38e9700bde697944/bronze/assistencias/</td><td>assistencias/</td><td>0</td><td>0</td></tr><tr><td>dbfs:/mnt/datalake38e9700bde697944/bronze/atores/</td><td>atores/</td><td>0</td><td>0</td></tr><tr><td>dbfs:/mnt/datalake38e9700bde697944/bronze/avaliacoes/</td><td>avaliacoes/</td><td>0</td><td>0</td></tr><tr><td>dbfs:/mnt/datalake38e9700bde697944/bronze/episodios/</td><td>episodios/</td><td>0</td><td>0</td></tr><tr><td>dbfs:/mnt/datalake38e9700bde697944/bronze/filmes/</td><td>filmes/</td><td>0</td><td>0</td></tr><tr><td>dbfs:/mnt/datalake38e9700bde697944/bronze/generos/</td><td>generos/</td><td>0</td><td>0</td></tr><tr><td>dbfs:/mnt/datalake38e9700bde697944/bronze/pagamentos/</td><td>pagamentos/</td><td>0</td><td>0</td></tr><tr><td>dbfs:/mnt/datalake38e9700bde697944/bronze/planos/</td><td>planos/</td><td>0</td><td>0</td></tr><tr><td>dbfs:/mnt/datalake38e9700bde697944/bronze/series/</td><td>series/</td><td>0</td><td>0</td></tr><tr><td>dbfs:/mnt/datalake38e9700bde697944/bronze/usuarios/</td><td>usuarios/</td><td>0</td><td>0</td></tr></tbody></table></div>"
      ]
     },
     "metadata": {
      "application/vnd.databricks.v1+output": {
       "addedWidgets": {},
       "aggData": [],
       "aggError": "",
       "aggOverflow": false,
       "aggSchema": [],
       "aggSeriesLimitReached": false,
       "aggType": "",
       "arguments": {},
       "columnCustomDisplayInfos": {},
       "data": [
        [
         "dbfs:/mnt/datalake38e9700bde697944/bronze/assistencias/",
         "assistencias/",
         0,
         0
        ],
        [
         "dbfs:/mnt/datalake38e9700bde697944/bronze/atores/",
         "atores/",
         0,
         0
        ],
        [
         "dbfs:/mnt/datalake38e9700bde697944/bronze/avaliacoes/",
         "avaliacoes/",
         0,
         0
        ],
        [
         "dbfs:/mnt/datalake38e9700bde697944/bronze/episodios/",
         "episodios/",
         0,
         0
        ],
        [
         "dbfs:/mnt/datalake38e9700bde697944/bronze/filmes/",
         "filmes/",
         0,
         0
        ],
        [
         "dbfs:/mnt/datalake38e9700bde697944/bronze/generos/",
         "generos/",
         0,
         0
        ],
        [
         "dbfs:/mnt/datalake38e9700bde697944/bronze/pagamentos/",
         "pagamentos/",
         0,
         0
        ],
        [
         "dbfs:/mnt/datalake38e9700bde697944/bronze/planos/",
         "planos/",
         0,
         0
        ],
        [
         "dbfs:/mnt/datalake38e9700bde697944/bronze/series/",
         "series/",
         0,
         0
        ],
        [
         "dbfs:/mnt/datalake38e9700bde697944/bronze/usuarios/",
         "usuarios/",
         0,
         0
        ]
       ],
       "datasetInfos": [],
       "dbfsResultPath": null,
       "isJsonSchema": true,
       "metadata": {},
       "overflow": false,
       "plotOptions": {
        "customPlotOptions": {},
        "displayType": "table",
        "pivotAggregation": null,
        "pivotColumns": null,
        "xColumns": null,
        "yColumns": null
       },
       "removedWidgets": [],
       "schema": [
        {
         "metadata": "{}",
         "name": "path",
         "type": "\"string\""
        },
        {
         "metadata": "{}",
         "name": "name",
         "type": "\"string\""
        },
        {
         "metadata": "{}",
         "name": "size",
         "type": "\"long\""
        },
        {
         "metadata": "{}",
         "name": "modificationTime",
         "type": "\"long\""
        }
       ],
       "type": "table"
      }
     },
     "output_type": "display_data"
    }
   ],
   "source": [
    "display(dbutils.fs.ls(f\"/mnt/{storageAccountName}/bronze/\"))"
   ]
  },
  {
   "cell_type": "markdown",
   "metadata": {
    "application/vnd.databricks.v1+cell": {
     "cellMetadata": {
      "byteLimit": 2048000,
      "rowLimit": 10000
     },
     "inputWidgets": {},
     "nuid": "f6393fa5-64f2-4e8d-8358-617d0b55f035",
     "showTitle": false,
     "tableResultSettingsMap": {},
     "title": ""
    }
   },
   "source": [
    "### Lendo um exemplo de um delta lake para validar a existencia dos dados e das colunas do metadados"
   ]
  },
  {
   "cell_type": "code",
   "execution_count": 0,
   "metadata": {
    "application/vnd.databricks.v1+cell": {
     "cellMetadata": {
      "byteLimit": 2048000,
      "implicitDf": true,
      "rowLimit": 10000
     },
     "inputWidgets": {},
     "nuid": "84ef9829-3e0e-4807-bc1b-026324f6ed82",
     "showTitle": false,
     "tableResultSettingsMap": {},
     "title": ""
    }
   },
   "outputs": [
    {
     "output_type": "display_data",
     "data": {
      "text/html": [
       "<style scoped>\n",
       "  .table-result-container {\n",
       "    max-height: 300px;\n",
       "    overflow: auto;\n",
       "  }\n",
       "  table, th, td {\n",
       "    border: 1px solid black;\n",
       "    border-collapse: collapse;\n",
       "  }\n",
       "  th, td {\n",
       "    padding: 5px;\n",
       "  }\n",
       "  th {\n",
       "    text-align: left;\n",
       "  }\n",
       "</style><div class='table-result-container'><table class='table-result'><thead style='background-color: white'><tr><th>id_assistencia</th><th>id_usuario</th><th>tipo_conteudo</th><th>id_conteudo</th><th>data_assistencia</th><th>dispositivo</th><th>data_hora_bronze</th><th>nome_arquivo</th></tr></thead><tbody><tr><td>1</td><td>7369</td><td>episodio</td><td>8895</td><td>2021-03-20</td><td>notebook</td><td>2025-06-07T13:14:40.703+0000</td><td>assistencias.csv</td></tr><tr><td>2</td><td>5532</td><td>filme</td><td>12837</td><td>2021-03-16</td><td>tablet</td><td>2025-06-07T13:14:40.703+0000</td><td>assistencias.csv</td></tr><tr><td>3</td><td>2664</td><td>filme</td><td>15468</td><td>2019-05-31</td><td>notebook</td><td>2025-06-07T13:14:40.703+0000</td><td>assistencias.csv</td></tr><tr><td>4</td><td>6624</td><td>filme</td><td>14339</td><td>2024-12-16</td><td>tv</td><td>2025-06-07T13:14:40.703+0000</td><td>assistencias.csv</td></tr><tr><td>5</td><td>8796</td><td>filme</td><td>5207</td><td>2020-01-30</td><td>tablet</td><td>2025-06-07T13:14:40.703+0000</td><td>assistencias.csv</td></tr><tr><td>6</td><td>502</td><td>episodio</td><td>9734</td><td>2023-05-15</td><td>notebook</td><td>2025-06-07T13:14:40.703+0000</td><td>assistencias.csv</td></tr><tr><td>7</td><td>7310</td><td>episodio</td><td>5813</td><td>2020-01-25</td><td>notebook</td><td>2025-06-07T13:14:40.703+0000</td><td>assistencias.csv</td></tr><tr><td>8</td><td>6258</td><td>episodio</td><td>24458</td><td>2023-10-28</td><td>tablet</td><td>2025-06-07T13:14:40.703+0000</td><td>assistencias.csv</td></tr><tr><td>9</td><td>4820</td><td>filme</td><td>12740</td><td>2022-02-17</td><td>notebook</td><td>2025-06-07T13:14:40.703+0000</td><td>assistencias.csv</td></tr><tr><td>10</td><td>9343</td><td>episodio</td><td>21408</td><td>2022-08-07</td><td>notebook</td><td>2025-06-07T13:14:40.703+0000</td><td>assistencias.csv</td></tr></tbody></table></div>"
      ]
     },
     "metadata": {
      "application/vnd.databricks.v1+output": {
       "addedWidgets": {},
       "aggData": [],
       "aggError": "",
       "aggOverflow": false,
       "aggSchema": [],
       "aggSeriesLimitReached": false,
       "aggType": "",
       "arguments": {},
       "columnCustomDisplayInfos": {},
       "data": [
        [
         "1",
         "7369",
         "episodio",
         "8895",
         "2021-03-20",
         "notebook",
         "2025-06-07T13:14:40.703+0000",
         "assistencias.csv"
        ],
        [
         "2",
         "5532",
         "filme",
         "12837",
         "2021-03-16",
         "tablet",
         "2025-06-07T13:14:40.703+0000",
         "assistencias.csv"
        ],
        [
         "3",
         "2664",
         "filme",
         "15468",
         "2019-05-31",
         "notebook",
         "2025-06-07T13:14:40.703+0000",
         "assistencias.csv"
        ],
        [
         "4",
         "6624",
         "filme",
         "14339",
         "2024-12-16",
         "tv",
         "2025-06-07T13:14:40.703+0000",
         "assistencias.csv"
        ],
        [
         "5",
         "8796",
         "filme",
         "5207",
         "2020-01-30",
         "tablet",
         "2025-06-07T13:14:40.703+0000",
         "assistencias.csv"
        ],
        [
         "6",
         "502",
         "episodio",
         "9734",
         "2023-05-15",
         "notebook",
         "2025-06-07T13:14:40.703+0000",
         "assistencias.csv"
        ],
        [
         "7",
         "7310",
         "episodio",
         "5813",
         "2020-01-25",
         "notebook",
         "2025-06-07T13:14:40.703+0000",
         "assistencias.csv"
        ],
        [
         "8",
         "6258",
         "episodio",
         "24458",
         "2023-10-28",
         "tablet",
         "2025-06-07T13:14:40.703+0000",
         "assistencias.csv"
        ],
        [
         "9",
         "4820",
         "filme",
         "12740",
         "2022-02-17",
         "notebook",
         "2025-06-07T13:14:40.703+0000",
         "assistencias.csv"
        ],
        [
         "10",
         "9343",
         "episodio",
         "21408",
         "2022-08-07",
         "notebook",
         "2025-06-07T13:14:40.703+0000",
         "assistencias.csv"
        ]
       ],
       "datasetInfos": [],
       "dbfsResultPath": null,
       "isJsonSchema": true,
       "metadata": {},
       "overflow": false,
       "plotOptions": {
        "customPlotOptions": {},
        "displayType": "table",
        "pivotAggregation": null,
        "pivotColumns": null,
        "xColumns": null,
        "yColumns": null
       },
       "removedWidgets": [],
       "schema": [
        {
         "metadata": "{}",
         "name": "id_assistencia",
         "type": "\"string\""
        },
        {
         "metadata": "{}",
         "name": "id_usuario",
         "type": "\"string\""
        },
        {
         "metadata": "{}",
         "name": "tipo_conteudo",
         "type": "\"string\""
        },
        {
         "metadata": "{}",
         "name": "id_conteudo",
         "type": "\"string\""
        },
        {
         "metadata": "{}",
         "name": "data_assistencia",
         "type": "\"string\""
        },
        {
         "metadata": "{}",
         "name": "dispositivo",
         "type": "\"string\""
        },
        {
         "metadata": "{}",
         "name": "data_hora_bronze",
         "type": "\"timestamp\""
        },
        {
         "metadata": "{}",
         "name": "nome_arquivo",
         "type": "\"string\""
        }
       ],
       "type": "table"
      }
     },
     "output_type": "display_data"
    }
   ],
   "source": [
    "spark.read.format('delta').load(f'/mnt/{storageAccountName}/bronze/assistencias').limit(10).display()"
   ]
  }
 ],
 "metadata": {
  "application/vnd.databricks.v1+notebook": {
   "computePreferences": null,
   "dashboards": [],
   "environmentMetadata": null,
   "inputWidgetPreferences": null,
   "language": "python",
   "notebookMetadata": {
    "mostRecentlyExecutedCommandWithImplicitDF": {
     "commandId": 3210653005600686,
     "dataframes": [
      "_sqldf"
     ]
    },
    "pythonIndentUnit": 4
   },
   "notebookName": "Atividade Pratica - Lakehouse - Bronze",
   "widgets": {}
  }
 },
 "nbformat": 4,
 "nbformat_minor": 0
}